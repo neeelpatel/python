{
 "cells": [
  {
   "cell_type": "markdown",
   "id": "46ce43ff",
   "metadata": {},
   "source": [
    "loading dataset"
   ]
  },
  {
   "cell_type": "code",
   "execution_count": 3,
   "id": "3a52d21b",
   "metadata": {},
   "outputs": [],
   "source": [
    "import pandas as pd"
   ]
  },
  {
   "cell_type": "code",
   "execution_count": 4,
   "id": "3f4e33c1",
   "metadata": {},
   "outputs": [],
   "source": [
    "data =pd.read_csv('mobile_phone.csv')"
   ]
  },
  {
   "cell_type": "code",
   "execution_count": 5,
   "id": "d6526eca",
   "metadata": {},
   "outputs": [
    {
     "data": {
      "text/html": [
       "<div>\n",
       "<style scoped>\n",
       "    .dataframe tbody tr th:only-of-type {\n",
       "        vertical-align: middle;\n",
       "    }\n",
       "\n",
       "    .dataframe tbody tr th {\n",
       "        vertical-align: top;\n",
       "    }\n",
       "\n",
       "    .dataframe thead th {\n",
       "        text-align: right;\n",
       "    }\n",
       "</style>\n",
       "<table border=\"1\" class=\"dataframe\">\n",
       "  <thead>\n",
       "    <tr style=\"text-align: right;\">\n",
       "      <th></th>\n",
       "      <th>index</th>\n",
       "      <th>date</th>\n",
       "      <th>duration</th>\n",
       "      <th>item</th>\n",
       "      <th>month</th>\n",
       "      <th>network</th>\n",
       "      <th>network_type</th>\n",
       "    </tr>\n",
       "  </thead>\n",
       "  <tbody>\n",
       "    <tr>\n",
       "      <th>0</th>\n",
       "      <td>0</td>\n",
       "      <td>15/10/2014 06:58</td>\n",
       "      <td>34.429</td>\n",
       "      <td>data</td>\n",
       "      <td>2014-11</td>\n",
       "      <td>data</td>\n",
       "      <td>data</td>\n",
       "    </tr>\n",
       "    <tr>\n",
       "      <th>1</th>\n",
       "      <td>1</td>\n",
       "      <td>15/10/2014 06:58</td>\n",
       "      <td>13.000</td>\n",
       "      <td>call</td>\n",
       "      <td>2014-11</td>\n",
       "      <td>Vodafone</td>\n",
       "      <td>mobile</td>\n",
       "    </tr>\n",
       "    <tr>\n",
       "      <th>2</th>\n",
       "      <td>2</td>\n",
       "      <td>15/10/2014 14:46</td>\n",
       "      <td>23.000</td>\n",
       "      <td>call</td>\n",
       "      <td>2014-11</td>\n",
       "      <td>Meteor</td>\n",
       "      <td>mobile</td>\n",
       "    </tr>\n",
       "    <tr>\n",
       "      <th>3</th>\n",
       "      <td>3</td>\n",
       "      <td>15/10/2014 14:48</td>\n",
       "      <td>4.000</td>\n",
       "      <td>call</td>\n",
       "      <td>2014-11</td>\n",
       "      <td>Tesco</td>\n",
       "      <td>mobile</td>\n",
       "    </tr>\n",
       "    <tr>\n",
       "      <th>4</th>\n",
       "      <td>4</td>\n",
       "      <td>15/10/2014 17:27</td>\n",
       "      <td>4.000</td>\n",
       "      <td>call</td>\n",
       "      <td>2014-11</td>\n",
       "      <td>Tesco</td>\n",
       "      <td>mobile</td>\n",
       "    </tr>\n",
       "  </tbody>\n",
       "</table>\n",
       "</div>"
      ],
      "text/plain": [
       "   index              date  duration  item    month   network network_type\n",
       "0      0  15/10/2014 06:58    34.429  data  2014-11      data         data\n",
       "1      1  15/10/2014 06:58    13.000  call  2014-11  Vodafone       mobile\n",
       "2      2  15/10/2014 14:46    23.000  call  2014-11    Meteor       mobile\n",
       "3      3  15/10/2014 14:48     4.000  call  2014-11     Tesco       mobile\n",
       "4      4  15/10/2014 17:27     4.000  call  2014-11     Tesco       mobile"
      ]
     },
     "execution_count": 5,
     "metadata": {},
     "output_type": "execute_result"
    }
   ],
   "source": [
    "data.head()"
   ]
  },
  {
   "cell_type": "markdown",
   "id": "a4f4afc5",
   "metadata": {},
   "source": [
    "1) Get the Basic Statistics of Dataset.\n"
   ]
  },
  {
   "cell_type": "code",
   "execution_count": 6,
   "id": "dfe5634d",
   "metadata": {},
   "outputs": [
    {
     "data": {
      "text/html": [
       "<div>\n",
       "<style scoped>\n",
       "    .dataframe tbody tr th:only-of-type {\n",
       "        vertical-align: middle;\n",
       "    }\n",
       "\n",
       "    .dataframe tbody tr th {\n",
       "        vertical-align: top;\n",
       "    }\n",
       "\n",
       "    .dataframe thead th {\n",
       "        text-align: right;\n",
       "    }\n",
       "</style>\n",
       "<table border=\"1\" class=\"dataframe\">\n",
       "  <thead>\n",
       "    <tr style=\"text-align: right;\">\n",
       "      <th></th>\n",
       "      <th>index</th>\n",
       "      <th>duration</th>\n",
       "    </tr>\n",
       "  </thead>\n",
       "  <tbody>\n",
       "    <tr>\n",
       "      <th>count</th>\n",
       "      <td>830.000000</td>\n",
       "      <td>830.000000</td>\n",
       "    </tr>\n",
       "    <tr>\n",
       "      <th>mean</th>\n",
       "      <td>414.500000</td>\n",
       "      <td>117.804036</td>\n",
       "    </tr>\n",
       "    <tr>\n",
       "      <th>std</th>\n",
       "      <td>239.744656</td>\n",
       "      <td>444.129560</td>\n",
       "    </tr>\n",
       "    <tr>\n",
       "      <th>min</th>\n",
       "      <td>0.000000</td>\n",
       "      <td>1.000000</td>\n",
       "    </tr>\n",
       "    <tr>\n",
       "      <th>25%</th>\n",
       "      <td>207.250000</td>\n",
       "      <td>1.000000</td>\n",
       "    </tr>\n",
       "    <tr>\n",
       "      <th>50%</th>\n",
       "      <td>414.500000</td>\n",
       "      <td>24.500000</td>\n",
       "    </tr>\n",
       "    <tr>\n",
       "      <th>75%</th>\n",
       "      <td>621.750000</td>\n",
       "      <td>55.000000</td>\n",
       "    </tr>\n",
       "    <tr>\n",
       "      <th>max</th>\n",
       "      <td>829.000000</td>\n",
       "      <td>10528.000000</td>\n",
       "    </tr>\n",
       "  </tbody>\n",
       "</table>\n",
       "</div>"
      ],
      "text/plain": [
       "            index      duration\n",
       "count  830.000000    830.000000\n",
       "mean   414.500000    117.804036\n",
       "std    239.744656    444.129560\n",
       "min      0.000000      1.000000\n",
       "25%    207.250000      1.000000\n",
       "50%    414.500000     24.500000\n",
       "75%    621.750000     55.000000\n",
       "max    829.000000  10528.000000"
      ]
     },
     "execution_count": 6,
     "metadata": {},
     "output_type": "execute_result"
    }
   ],
   "source": [
    "data.describe()"
   ]
  },
  {
   "cell_type": "markdown",
   "id": "48dbabe0",
   "metadata": {},
   "source": [
    "2) Display the data grouped by Month.\n"
   ]
  },
  {
   "cell_type": "code",
   "execution_count": 8,
   "id": "08fd4830",
   "metadata": {},
   "outputs": [
    {
     "data": {
      "text/plain": [
       "dict_keys(['2014-11', '2014-12', '2015-01', '2015-02', '2015-03'])"
      ]
     },
     "execution_count": 8,
     "metadata": {},
     "output_type": "execute_result"
    }
   ],
   "source": [
    "data.groupby(['month']).groups.keys()"
   ]
  },
  {
   "cell_type": "markdown",
   "id": "7515207b",
   "metadata": {},
   "source": [
    "3) Display the data by grouping data month wise.\n"
   ]
  },
  {
   "cell_type": "code",
   "execution_count": 11,
   "id": "141f698d",
   "metadata": {},
   "outputs": [
    {
     "data": {
      "text/html": [
       "<div>\n",
       "<style scoped>\n",
       "    .dataframe tbody tr th:only-of-type {\n",
       "        vertical-align: middle;\n",
       "    }\n",
       "\n",
       "    .dataframe tbody tr th {\n",
       "        vertical-align: top;\n",
       "    }\n",
       "\n",
       "    .dataframe thead th {\n",
       "        text-align: right;\n",
       "    }\n",
       "</style>\n",
       "<table border=\"1\" class=\"dataframe\">\n",
       "  <thead>\n",
       "    <tr style=\"text-align: right;\">\n",
       "      <th></th>\n",
       "      <th>index</th>\n",
       "      <th>date</th>\n",
       "      <th>duration</th>\n",
       "      <th>item</th>\n",
       "      <th>network</th>\n",
       "      <th>network_type</th>\n",
       "    </tr>\n",
       "    <tr>\n",
       "      <th>month</th>\n",
       "      <th></th>\n",
       "      <th></th>\n",
       "      <th></th>\n",
       "      <th></th>\n",
       "      <th></th>\n",
       "      <th></th>\n",
       "    </tr>\n",
       "  </thead>\n",
       "  <tbody>\n",
       "    <tr>\n",
       "      <th>2014-11</th>\n",
       "      <td>0</td>\n",
       "      <td>15/10/2014 06:58</td>\n",
       "      <td>34.429</td>\n",
       "      <td>data</td>\n",
       "      <td>data</td>\n",
       "      <td>data</td>\n",
       "    </tr>\n",
       "    <tr>\n",
       "      <th>2014-12</th>\n",
       "      <td>228</td>\n",
       "      <td>13/11/2014 06:58</td>\n",
       "      <td>34.429</td>\n",
       "      <td>data</td>\n",
       "      <td>data</td>\n",
       "      <td>data</td>\n",
       "    </tr>\n",
       "    <tr>\n",
       "      <th>2015-01</th>\n",
       "      <td>381</td>\n",
       "      <td>13/12/2014 06:58</td>\n",
       "      <td>34.429</td>\n",
       "      <td>data</td>\n",
       "      <td>data</td>\n",
       "      <td>data</td>\n",
       "    </tr>\n",
       "    <tr>\n",
       "      <th>2015-02</th>\n",
       "      <td>577</td>\n",
       "      <td>13/01/2015 06:58</td>\n",
       "      <td>34.429</td>\n",
       "      <td>data</td>\n",
       "      <td>data</td>\n",
       "      <td>data</td>\n",
       "    </tr>\n",
       "    <tr>\n",
       "      <th>2015-03</th>\n",
       "      <td>729</td>\n",
       "      <td>12/02/2015 20:15</td>\n",
       "      <td>69.000</td>\n",
       "      <td>call</td>\n",
       "      <td>landline</td>\n",
       "      <td>landline</td>\n",
       "    </tr>\n",
       "  </tbody>\n",
       "</table>\n",
       "</div>"
      ],
      "text/plain": [
       "         index              date  duration  item   network network_type\n",
       "month                                                                  \n",
       "2014-11      0  15/10/2014 06:58    34.429  data      data         data\n",
       "2014-12    228  13/11/2014 06:58    34.429  data      data         data\n",
       "2015-01    381  13/12/2014 06:58    34.429  data      data         data\n",
       "2015-02    577  13/01/2015 06:58    34.429  data      data         data\n",
       "2015-03    729  12/02/2015 20:15    69.000  call  landline     landline"
      ]
     },
     "execution_count": 11,
     "metadata": {},
     "output_type": "execute_result"
    }
   ],
   "source": [
    "data.groupby(['month']).first()"
   ]
  },
  {
   "cell_type": "markdown",
   "id": "169810e0",
   "metadata": {},
   "source": [
    "4) Get the sum of duration per month.\n"
   ]
  },
  {
   "cell_type": "code",
   "execution_count": 12,
   "id": "94cb2db5",
   "metadata": {},
   "outputs": [
    {
     "data": {
      "text/plain": [
       "month\n",
       "2014-11    26639.441\n",
       "2014-12    14641.870\n",
       "2015-01    18223.299\n",
       "2015-02    15522.299\n",
       "2015-03    22750.441\n",
       "Name: duration, dtype: float64"
      ]
     },
     "execution_count": 12,
     "metadata": {},
     "output_type": "execute_result"
    }
   ],
   "source": [
    "data.groupby(['month'])['duration'].sum()"
   ]
  },
  {
   "cell_type": "markdown",
   "id": "9c973395",
   "metadata": {},
   "source": [
    "5) Show the mean of duration per month.\n"
   ]
  },
  {
   "cell_type": "code",
   "execution_count": 13,
   "id": "c1db7509",
   "metadata": {},
   "outputs": [
    {
     "data": {
      "text/plain": [
       "month\n",
       "2014-11    115.823657\n",
       "2014-12     93.260318\n",
       "2015-01     88.894141\n",
       "2015-02    113.301453\n",
       "2015-03    225.251891\n",
       "Name: duration, dtype: float64"
      ]
     },
     "execution_count": 13,
     "metadata": {},
     "output_type": "execute_result"
    }
   ],
   "source": [
    "data.groupby(['month'])['duration'].mean()"
   ]
  },
  {
   "cell_type": "markdown",
   "id": "d7d346c2",
   "metadata": {},
   "source": [
    "6) Show the median of duration per month.\n"
   ]
  },
  {
   "cell_type": "code",
   "execution_count": 14,
   "id": "429e0498",
   "metadata": {},
   "outputs": [
    {
     "data": {
      "text/plain": [
       "month\n",
       "2014-11     4.000\n",
       "2014-12    28.000\n",
       "2015-01     6.000\n",
       "2015-02    34.429\n",
       "2015-03    34.429\n",
       "Name: duration, dtype: float64"
      ]
     },
     "execution_count": 14,
     "metadata": {},
     "output_type": "execute_result"
    }
   ],
   "source": [
    "data.groupby(['month'])['duration'].median()"
   ]
  },
  {
   "cell_type": "markdown",
   "id": "17f4b532",
   "metadata": {},
   "source": [
    "7) Get the minimum duration of call per month.\n"
   ]
  },
  {
   "cell_type": "code",
   "execution_count": 16,
   "id": "8ee816a1",
   "metadata": {},
   "outputs": [
    {
     "data": {
      "text/plain": [
       "month\n",
       "2014-11    1.0\n",
       "2014-12    1.0\n",
       "2015-01    1.0\n",
       "2015-02    1.0\n",
       "2015-03    1.0\n",
       "Name: duration, dtype: float64"
      ]
     },
     "execution_count": 16,
     "metadata": {},
     "output_type": "execute_result"
    }
   ],
   "source": [
    "data.groupby(['month'])['duration'].min()"
   ]
  },
  {
   "cell_type": "markdown",
   "id": "fbbe9121",
   "metadata": {},
   "source": [
    "8) Get the maximum duration of call per month.\n"
   ]
  },
  {
   "cell_type": "code",
   "execution_count": 18,
   "id": "9775ea09",
   "metadata": {},
   "outputs": [
    {
     "data": {
      "text/plain": [
       "month\n",
       "2014-11     1940.0\n",
       "2014-12     2120.0\n",
       "2015-01     1859.0\n",
       "2015-02     1863.0\n",
       "2015-03    10528.0\n",
       "Name: duration, dtype: float64"
      ]
     },
     "execution_count": 18,
     "metadata": {},
     "output_type": "execute_result"
    }
   ],
   "source": [
    "data.groupby(['month'])['duration'].max()"
   ]
  },
  {
   "cell_type": "markdown",
   "id": "115fa9ae",
   "metadata": {},
   "source": [
    "9) Get the first entry for each month.\n"
   ]
  },
  {
   "cell_type": "code",
   "execution_count": 19,
   "id": "37720fc5",
   "metadata": {},
   "outputs": [
    {
     "data": {
      "text/html": [
       "<div>\n",
       "<style scoped>\n",
       "    .dataframe tbody tr th:only-of-type {\n",
       "        vertical-align: middle;\n",
       "    }\n",
       "\n",
       "    .dataframe tbody tr th {\n",
       "        vertical-align: top;\n",
       "    }\n",
       "\n",
       "    .dataframe thead th {\n",
       "        text-align: right;\n",
       "    }\n",
       "</style>\n",
       "<table border=\"1\" class=\"dataframe\">\n",
       "  <thead>\n",
       "    <tr style=\"text-align: right;\">\n",
       "      <th></th>\n",
       "      <th>index</th>\n",
       "      <th>date</th>\n",
       "      <th>duration</th>\n",
       "      <th>item</th>\n",
       "      <th>month</th>\n",
       "      <th>network</th>\n",
       "      <th>network_type</th>\n",
       "    </tr>\n",
       "  </thead>\n",
       "  <tbody>\n",
       "    <tr>\n",
       "      <th>0</th>\n",
       "      <td>0</td>\n",
       "      <td>15/10/2014 06:58</td>\n",
       "      <td>34.429</td>\n",
       "      <td>data</td>\n",
       "      <td>2014-11</td>\n",
       "      <td>data</td>\n",
       "      <td>data</td>\n",
       "    </tr>\n",
       "    <tr>\n",
       "      <th>1</th>\n",
       "      <td>1</td>\n",
       "      <td>15/10/2014 06:58</td>\n",
       "      <td>13.000</td>\n",
       "      <td>call</td>\n",
       "      <td>2014-11</td>\n",
       "      <td>Vodafone</td>\n",
       "      <td>mobile</td>\n",
       "    </tr>\n",
       "    <tr>\n",
       "      <th>2</th>\n",
       "      <td>2</td>\n",
       "      <td>15/10/2014 14:46</td>\n",
       "      <td>23.000</td>\n",
       "      <td>call</td>\n",
       "      <td>2014-11</td>\n",
       "      <td>Meteor</td>\n",
       "      <td>mobile</td>\n",
       "    </tr>\n",
       "    <tr>\n",
       "      <th>3</th>\n",
       "      <td>3</td>\n",
       "      <td>15/10/2014 14:48</td>\n",
       "      <td>4.000</td>\n",
       "      <td>call</td>\n",
       "      <td>2014-11</td>\n",
       "      <td>Tesco</td>\n",
       "      <td>mobile</td>\n",
       "    </tr>\n",
       "    <tr>\n",
       "      <th>4</th>\n",
       "      <td>4</td>\n",
       "      <td>15/10/2014 17:27</td>\n",
       "      <td>4.000</td>\n",
       "      <td>call</td>\n",
       "      <td>2014-11</td>\n",
       "      <td>Tesco</td>\n",
       "      <td>mobile</td>\n",
       "    </tr>\n",
       "  </tbody>\n",
       "</table>\n",
       "</div>"
      ],
      "text/plain": [
       "   index              date  duration  item    month   network network_type\n",
       "0      0  15/10/2014 06:58    34.429  data  2014-11      data         data\n",
       "1      1  15/10/2014 06:58    13.000  call  2014-11  Vodafone       mobile\n",
       "2      2  15/10/2014 14:46    23.000  call  2014-11    Meteor       mobile\n",
       "3      3  15/10/2014 14:48     4.000  call  2014-11     Tesco       mobile\n",
       "4      4  15/10/2014 17:27     4.000  call  2014-11     Tesco       mobile"
      ]
     },
     "execution_count": 19,
     "metadata": {},
     "output_type": "execute_result"
    }
   ],
   "source": [
    "data.head()"
   ]
  },
  {
   "cell_type": "code",
   "execution_count": 21,
   "id": "ef718b1d",
   "metadata": {},
   "outputs": [
    {
     "data": {
      "text/plain": [
       "month\n",
       "2014-11    15/10/2014 06:58\n",
       "2014-12    13/11/2014 06:58\n",
       "2015-01    13/12/2014 06:58\n",
       "2015-02    13/01/2015 06:58\n",
       "2015-03    12/02/2015 20:15\n",
       "Name: date, dtype: object"
      ]
     },
     "execution_count": 21,
     "metadata": {},
     "output_type": "execute_result"
    }
   ],
   "source": [
    "data.groupby(['month'])['date'].first()"
   ]
  },
  {
   "cell_type": "markdown",
   "id": "fb42dcd4",
   "metadata": {},
   "source": [
    "10) Get the last entry for each month.\n"
   ]
  },
  {
   "cell_type": "code",
   "execution_count": 22,
   "id": "84cbc43f",
   "metadata": {},
   "outputs": [
    {
     "data": {
      "text/plain": [
       "month\n",
       "2014-11    13/11/2014 22:31\n",
       "2014-12    14/12/2014 19:54\n",
       "2015-01    14/01/2015 23:36\n",
       "2015-02    12/02/2015 06:58\n",
       "2015-03    14/03/2015 00:16\n",
       "Name: date, dtype: object"
      ]
     },
     "execution_count": 22,
     "metadata": {},
     "output_type": "execute_result"
    }
   ],
   "source": [
    "data.groupby(['month'])['date'].last()"
   ]
  },
  {
   "cell_type": "markdown",
   "id": "60f97a38",
   "metadata": {},
   "source": [
    "11) Display the number of unique network in the dataset.\n"
   ]
  },
  {
   "cell_type": "code",
   "execution_count": 10,
   "id": "065732d4",
   "metadata": {},
   "outputs": [
    {
     "data": {
      "text/plain": [
       "array(['data', 'Vodafone', 'Meteor', 'Tesco', 'Three', 'voicemail',\n",
       "       'landline', 'special', 'world'], dtype=object)"
      ]
     },
     "execution_count": 10,
     "metadata": {},
     "output_type": "execute_result"
    }
   ],
   "source": [
    "\n",
    "data.groupby(['network'])['duration'].nunique()\n",
    "#data.groupby('network')['duration'].nunique()\n",
    "\n",
    "data.network.unique()"
   ]
  },
  {
   "cell_type": "code",
   "execution_count": 9,
   "id": "eaff2825",
   "metadata": {},
   "outputs": [
    {
     "data": {
      "text/plain": [
       "221"
      ]
     },
     "execution_count": 9,
     "metadata": {},
     "output_type": "execute_result"
    }
   ],
   "source": [
    "data['duration'].nunique()"
   ]
  },
  {
   "cell_type": "markdown",
   "id": "ea763164",
   "metadata": {},
   "source": [
    "12) Which Network has the maximum duration in the dataset.\n"
   ]
  },
  {
   "cell_type": "code",
   "execution_count": 33,
   "id": "90d42474",
   "metadata": {},
   "outputs": [
    {
     "data": {
      "text/plain": [
       "network\n",
       "Meteor        1.000\n",
       "Tesco         1.000\n",
       "Three         1.000\n",
       "Vodafone      1.000\n",
       "data         34.429\n",
       "landline      3.000\n",
       "special       1.000\n",
       "voicemail     1.000\n",
       "world         1.000\n",
       "Name: duration, dtype: float64"
      ]
     },
     "execution_count": 33,
     "metadata": {},
     "output_type": "execute_result"
    }
   ],
   "source": [
    "data.groupby(['network'])['duration'].min()"
   ]
  },
  {
   "cell_type": "markdown",
   "id": "fe5307f7",
   "metadata": {},
   "source": [
    "13) How many calls, sms and data entries are in each month?\n"
   ]
  },
  {
   "cell_type": "code",
   "execution_count": 34,
   "id": "b5c70be8",
   "metadata": {},
   "outputs": [
    {
     "data": {
      "text/html": [
       "<div>\n",
       "<style scoped>\n",
       "    .dataframe tbody tr th:only-of-type {\n",
       "        vertical-align: middle;\n",
       "    }\n",
       "\n",
       "    .dataframe tbody tr th {\n",
       "        vertical-align: top;\n",
       "    }\n",
       "\n",
       "    .dataframe thead th {\n",
       "        text-align: right;\n",
       "    }\n",
       "</style>\n",
       "<table border=\"1\" class=\"dataframe\">\n",
       "  <thead>\n",
       "    <tr style=\"text-align: right;\">\n",
       "      <th></th>\n",
       "      <th>index</th>\n",
       "      <th>date</th>\n",
       "      <th>duration</th>\n",
       "      <th>item</th>\n",
       "      <th>month</th>\n",
       "      <th>network</th>\n",
       "      <th>network_type</th>\n",
       "    </tr>\n",
       "  </thead>\n",
       "  <tbody>\n",
       "    <tr>\n",
       "      <th>0</th>\n",
       "      <td>0</td>\n",
       "      <td>15/10/2014 06:58</td>\n",
       "      <td>34.429</td>\n",
       "      <td>data</td>\n",
       "      <td>2014-11</td>\n",
       "      <td>data</td>\n",
       "      <td>data</td>\n",
       "    </tr>\n",
       "    <tr>\n",
       "      <th>1</th>\n",
       "      <td>1</td>\n",
       "      <td>15/10/2014 06:58</td>\n",
       "      <td>13.000</td>\n",
       "      <td>call</td>\n",
       "      <td>2014-11</td>\n",
       "      <td>Vodafone</td>\n",
       "      <td>mobile</td>\n",
       "    </tr>\n",
       "    <tr>\n",
       "      <th>2</th>\n",
       "      <td>2</td>\n",
       "      <td>15/10/2014 14:46</td>\n",
       "      <td>23.000</td>\n",
       "      <td>call</td>\n",
       "      <td>2014-11</td>\n",
       "      <td>Meteor</td>\n",
       "      <td>mobile</td>\n",
       "    </tr>\n",
       "    <tr>\n",
       "      <th>3</th>\n",
       "      <td>3</td>\n",
       "      <td>15/10/2014 14:48</td>\n",
       "      <td>4.000</td>\n",
       "      <td>call</td>\n",
       "      <td>2014-11</td>\n",
       "      <td>Tesco</td>\n",
       "      <td>mobile</td>\n",
       "    </tr>\n",
       "    <tr>\n",
       "      <th>4</th>\n",
       "      <td>4</td>\n",
       "      <td>15/10/2014 17:27</td>\n",
       "      <td>4.000</td>\n",
       "      <td>call</td>\n",
       "      <td>2014-11</td>\n",
       "      <td>Tesco</td>\n",
       "      <td>mobile</td>\n",
       "    </tr>\n",
       "  </tbody>\n",
       "</table>\n",
       "</div>"
      ],
      "text/plain": [
       "   index              date  duration  item    month   network network_type\n",
       "0      0  15/10/2014 06:58    34.429  data  2014-11      data         data\n",
       "1      1  15/10/2014 06:58    13.000  call  2014-11  Vodafone       mobile\n",
       "2      2  15/10/2014 14:46    23.000  call  2014-11    Meteor       mobile\n",
       "3      3  15/10/2014 14:48     4.000  call  2014-11     Tesco       mobile\n",
       "4      4  15/10/2014 17:27     4.000  call  2014-11     Tesco       mobile"
      ]
     },
     "execution_count": 34,
     "metadata": {},
     "output_type": "execute_result"
    }
   ],
   "source": [
    "data.head()"
   ]
  },
  {
   "cell_type": "code",
   "execution_count": 37,
   "id": "72b47bac",
   "metadata": {},
   "outputs": [
    {
     "data": {
      "text/plain": [
       "month    item\n",
       "2014-11  call    107\n",
       "         data     29\n",
       "         sms      94\n",
       "2014-12  call     79\n",
       "         data     30\n",
       "         sms      48\n",
       "2015-01  call     88\n",
       "         data     31\n",
       "         sms      86\n",
       "2015-02  call     67\n",
       "         data     31\n",
       "         sms      39\n",
       "2015-03  call     47\n",
       "         data     29\n",
       "         sms      25\n",
       "Name: index, dtype: int64"
      ]
     },
     "execution_count": 37,
     "metadata": {},
     "output_type": "execute_result"
    }
   ],
   "source": [
    "data.groupby(['month','item'])['index'].count()"
   ]
  },
  {
   "cell_type": "markdown",
   "id": "0920bb11",
   "metadata": {},
   "source": [
    "14) How many calls, texts, and data are sent per month, split by network type?\n"
   ]
  },
  {
   "cell_type": "code",
   "execution_count": 40,
   "id": "46c55302",
   "metadata": {},
   "outputs": [
    {
     "data": {
      "text/plain": [
       "network    month    item\n",
       "Meteor     2014-11  call    13\n",
       "                    sms     10\n",
       "           2014-12  call    12\n",
       "                    sms     12\n",
       "           2015-01  call    21\n",
       "                    sms     10\n",
       "           2015-02  call     4\n",
       "                    sms      1\n",
       "           2015-03  call     4\n",
       "Tesco      2014-11  call    20\n",
       "                    sms      3\n",
       "           2014-12  call    12\n",
       "                    sms      1\n",
       "           2015-01  call    12\n",
       "                    sms      3\n",
       "           2015-02  call    20\n",
       "                    sms      2\n",
       "           2015-03  call     7\n",
       "                    sms      4\n",
       "Three      2014-11  call    39\n",
       "                    sms     25\n",
       "           2014-12  call    30\n",
       "                    sms     13\n",
       "           2015-01  call    26\n",
       "                    sms     33\n",
       "           2015-02  call    22\n",
       "                    sms     11\n",
       "           2015-03  call    11\n",
       "                    sms      5\n",
       "Vodafone   2014-11  call    24\n",
       "                    sms     55\n",
       "           2014-12  call    10\n",
       "                    sms     18\n",
       "           2015-01  call    15\n",
       "                    sms     40\n",
       "           2015-02  call     7\n",
       "                    sms     23\n",
       "           2015-03  call    10\n",
       "                    sms     13\n",
       "data       2014-11  data    29\n",
       "           2014-12  data    30\n",
       "           2015-01  data    31\n",
       "           2015-02  data    31\n",
       "           2015-03  data    29\n",
       "landline   2014-11  call     5\n",
       "           2014-12  call     7\n",
       "           2015-01  call    11\n",
       "           2015-02  call     8\n",
       "           2015-03  call    11\n",
       "special    2014-11  sms      1\n",
       "           2015-02  sms      2\n",
       "voicemail  2014-11  call     6\n",
       "           2014-12  call     8\n",
       "           2015-01  call     3\n",
       "           2015-02  call     6\n",
       "           2015-03  call     4\n",
       "world      2014-12  sms      4\n",
       "           2015-03  sms      3\n",
       "Name: index, dtype: int64"
      ]
     },
     "execution_count": 40,
     "metadata": {},
     "output_type": "execute_result"
    }
   ],
   "source": [
    "data.groupby(['network','month','item'])['index'].count()"
   ]
  },
  {
   "cell_type": "markdown",
   "id": "a50e0a5f",
   "metadata": {},
   "source": [
    "15) Calculate the number of rows per each network type.\n"
   ]
  },
  {
   "cell_type": "code",
   "execution_count": 45,
   "id": "15e8d084",
   "metadata": {},
   "outputs": [
    {
     "data": {
      "text/plain": [
       "network_type\n",
       "data         150\n",
       "landline      42\n",
       "mobile       601\n",
       "special        3\n",
       "voicemail     27\n",
       "world          7\n",
       "Name: index, dtype: int64"
      ]
     },
     "execution_count": 45,
     "metadata": {},
     "output_type": "execute_result"
    }
   ],
   "source": [
    "data.groupby(['network_type'])['index'].count()"
   ]
  },
  {
   "cell_type": "markdown",
   "id": "8a615d95",
   "metadata": {},
   "source": [
    "16) Calculate the size of each network in the dataset.\n"
   ]
  },
  {
   "cell_type": "code",
   "execution_count": 44,
   "id": "77fce599",
   "metadata": {},
   "outputs": [
    {
     "data": {
      "text/plain": [
       "network\n",
       "Meteor        87\n",
       "Tesco         84\n",
       "Three        215\n",
       "Vodafone     215\n",
       "data         150\n",
       "landline      42\n",
       "special        3\n",
       "voicemail     27\n",
       "world          7\n",
       "dtype: int64"
      ]
     },
     "execution_count": 44,
     "metadata": {},
     "output_type": "execute_result"
    }
   ],
   "source": [
    "data.groupby(['network']).size()"
   ]
  },
  {
   "cell_type": "markdown",
   "id": "78b42b82",
   "metadata": {},
   "source": [
    "17) Calculate the standard deviation of duration of each month.\n"
   ]
  },
  {
   "cell_type": "code",
   "execution_count": 46,
   "id": "d9cf1675",
   "metadata": {},
   "outputs": [
    {
     "data": {
      "text/plain": [
       "month\n",
       "2014-11     287.548051\n",
       "2014-12     243.151296\n",
       "2015-01     216.853383\n",
       "2015-02     250.778963\n",
       "2015-03    1076.018287\n",
       "Name: duration, dtype: float64"
      ]
     },
     "execution_count": 46,
     "metadata": {},
     "output_type": "execute_result"
    }
   ],
   "source": [
    "data.groupby(['month'])['duration'].std()"
   ]
  },
  {
   "cell_type": "markdown",
   "id": "9578ef58",
   "metadata": {},
   "source": [
    "18) Calculate the variance of network type.\n"
   ]
  },
  {
   "cell_type": "code",
   "execution_count": 47,
   "id": "054dca8b",
   "metadata": {},
   "outputs": [
    {
     "data": {
      "text/html": [
       "<div>\n",
       "<style scoped>\n",
       "    .dataframe tbody tr th:only-of-type {\n",
       "        vertical-align: middle;\n",
       "    }\n",
       "\n",
       "    .dataframe tbody tr th {\n",
       "        vertical-align: top;\n",
       "    }\n",
       "\n",
       "    .dataframe thead th {\n",
       "        text-align: right;\n",
       "    }\n",
       "</style>\n",
       "<table border=\"1\" class=\"dataframe\">\n",
       "  <thead>\n",
       "    <tr style=\"text-align: right;\">\n",
       "      <th></th>\n",
       "      <th>index</th>\n",
       "      <th>duration</th>\n",
       "    </tr>\n",
       "    <tr>\n",
       "      <th>network_type</th>\n",
       "      <th></th>\n",
       "      <th></th>\n",
       "    </tr>\n",
       "  </thead>\n",
       "  <tbody>\n",
       "    <tr>\n",
       "      <th>data</th>\n",
       "      <td>60312.269530</td>\n",
       "      <td>0.000000e+00</td>\n",
       "    </tr>\n",
       "    <tr>\n",
       "      <th>landline</th>\n",
       "      <td>50247.682346</td>\n",
       "      <td>2.661517e+06</td>\n",
       "    </tr>\n",
       "    <tr>\n",
       "      <th>mobile</th>\n",
       "      <td>54623.712934</td>\n",
       "      <td>8.126929e+04</td>\n",
       "    </tr>\n",
       "    <tr>\n",
       "      <th>special</th>\n",
       "      <td>92596.333333</td>\n",
       "      <td>0.000000e+00</td>\n",
       "    </tr>\n",
       "    <tr>\n",
       "      <th>voicemail</th>\n",
       "      <td>67588.165242</td>\n",
       "      <td>1.962046e+03</td>\n",
       "    </tr>\n",
       "    <tr>\n",
       "      <th>world</th>\n",
       "      <td>60958.285714</td>\n",
       "      <td>0.000000e+00</td>\n",
       "    </tr>\n",
       "  </tbody>\n",
       "</table>\n",
       "</div>"
      ],
      "text/plain": [
       "                     index      duration\n",
       "network_type                            \n",
       "data          60312.269530  0.000000e+00\n",
       "landline      50247.682346  2.661517e+06\n",
       "mobile        54623.712934  8.126929e+04\n",
       "special       92596.333333  0.000000e+00\n",
       "voicemail     67588.165242  1.962046e+03\n",
       "world         60958.285714  0.000000e+00"
      ]
     },
     "execution_count": 47,
     "metadata": {},
     "output_type": "execute_result"
    }
   ],
   "source": [
    "data.groupby(['network_type']).var()"
   ]
  },
  {
   "cell_type": "markdown",
   "id": "dcd08c01",
   "metadata": {},
   "source": [
    "19) Calculate the variance of duration of calls month wise.\n"
   ]
  },
  {
   "cell_type": "code",
   "execution_count": 48,
   "id": "64b62204",
   "metadata": {},
   "outputs": [
    {
     "data": {
      "text/plain": [
       "month\n",
       "2014-11    8.268388e+04\n",
       "2014-12    5.912255e+04\n",
       "2015-01    4.702539e+04\n",
       "2015-02    6.289009e+04\n",
       "2015-03    1.157815e+06\n",
       "Name: duration, dtype: float64"
      ]
     },
     "execution_count": 48,
     "metadata": {},
     "output_type": "execute_result"
    }
   ],
   "source": [
    "data.groupby(['month'])['duration'].var()"
   ]
  },
  {
   "cell_type": "markdown",
   "id": "60e69d9d",
   "metadata": {},
   "source": [
    "20) Using Aggregation function calculate the min and max of network.\n"
   ]
  },
  {
   "cell_type": "code",
   "execution_count": 49,
   "id": "695ed189",
   "metadata": {},
   "outputs": [
    {
     "data": {
      "text/html": [
       "<div>\n",
       "<style scoped>\n",
       "    .dataframe tbody tr th:only-of-type {\n",
       "        vertical-align: middle;\n",
       "    }\n",
       "\n",
       "    .dataframe tbody tr th {\n",
       "        vertical-align: top;\n",
       "    }\n",
       "\n",
       "    .dataframe thead th {\n",
       "        text-align: right;\n",
       "    }\n",
       "</style>\n",
       "<table border=\"1\" class=\"dataframe\">\n",
       "  <thead>\n",
       "    <tr style=\"text-align: right;\">\n",
       "      <th></th>\n",
       "      <th>network</th>\n",
       "    </tr>\n",
       "  </thead>\n",
       "  <tbody>\n",
       "    <tr>\n",
       "      <th>max</th>\n",
       "      <td>world</td>\n",
       "    </tr>\n",
       "    <tr>\n",
       "      <th>min</th>\n",
       "      <td>Meteor</td>\n",
       "    </tr>\n",
       "  </tbody>\n",
       "</table>\n",
       "</div>"
      ],
      "text/plain": [
       "    network\n",
       "max   world\n",
       "min  Meteor"
      ]
     },
     "execution_count": 49,
     "metadata": {},
     "output_type": "execute_result"
    }
   ],
   "source": [
    "data.aggregate({'network':['max','min']})"
   ]
  },
  {
   "cell_type": "markdown",
   "id": "81185c85",
   "metadata": {},
   "source": [
    "21) Using Aggregation function calculate the min and max of the month.\n"
   ]
  },
  {
   "cell_type": "code",
   "execution_count": 50,
   "id": "ac17b07e",
   "metadata": {},
   "outputs": [
    {
     "data": {
      "text/html": [
       "<div>\n",
       "<style scoped>\n",
       "    .dataframe tbody tr th:only-of-type {\n",
       "        vertical-align: middle;\n",
       "    }\n",
       "\n",
       "    .dataframe tbody tr th {\n",
       "        vertical-align: top;\n",
       "    }\n",
       "\n",
       "    .dataframe thead th {\n",
       "        text-align: right;\n",
       "    }\n",
       "</style>\n",
       "<table border=\"1\" class=\"dataframe\">\n",
       "  <thead>\n",
       "    <tr style=\"text-align: right;\">\n",
       "      <th></th>\n",
       "      <th>month</th>\n",
       "    </tr>\n",
       "  </thead>\n",
       "  <tbody>\n",
       "    <tr>\n",
       "      <th>min</th>\n",
       "      <td>2014-11</td>\n",
       "    </tr>\n",
       "    <tr>\n",
       "      <th>max</th>\n",
       "      <td>2015-03</td>\n",
       "    </tr>\n",
       "  </tbody>\n",
       "</table>\n",
       "</div>"
      ],
      "text/plain": [
       "       month\n",
       "min  2014-11\n",
       "max  2015-03"
      ]
     },
     "execution_count": 50,
     "metadata": {},
     "output_type": "execute_result"
    }
   ],
   "source": [
    "data.aggregate({'month':['min','max']})"
   ]
  },
  {
   "cell_type": "markdown",
   "id": "9f02cb60",
   "metadata": {},
   "source": [
    "22) Calculate sum of Duration of the calls using aggregate function.\n"
   ]
  },
  {
   "cell_type": "code",
   "execution_count": 52,
   "id": "95a42d33",
   "metadata": {},
   "outputs": [
    {
     "data": {
      "text/html": [
       "<div>\n",
       "<style scoped>\n",
       "    .dataframe tbody tr th:only-of-type {\n",
       "        vertical-align: middle;\n",
       "    }\n",
       "\n",
       "    .dataframe tbody tr th {\n",
       "        vertical-align: top;\n",
       "    }\n",
       "\n",
       "    .dataframe thead th {\n",
       "        text-align: right;\n",
       "    }\n",
       "</style>\n",
       "<table border=\"1\" class=\"dataframe\">\n",
       "  <thead>\n",
       "    <tr style=\"text-align: right;\">\n",
       "      <th></th>\n",
       "      <th>duration</th>\n",
       "    </tr>\n",
       "  </thead>\n",
       "  <tbody>\n",
       "    <tr>\n",
       "      <th>sum</th>\n",
       "      <td>97777.35</td>\n",
       "    </tr>\n",
       "  </tbody>\n",
       "</table>\n",
       "</div>"
      ],
      "text/plain": [
       "     duration\n",
       "sum  97777.35"
      ]
     },
     "execution_count": 52,
     "metadata": {},
     "output_type": "execute_result"
    }
   ],
   "source": [
    "data.aggregate({'duration':['sum']})"
   ]
  },
  {
   "cell_type": "markdown",
   "id": "828a1e88",
   "metadata": {},
   "source": [
    "23) Count the total number of item in the dataset."
   ]
  },
  {
   "cell_type": "code",
   "execution_count": 55,
   "id": "9684a08f",
   "metadata": {},
   "outputs": [
    {
     "data": {
      "text/plain": [
       "830"
      ]
     },
     "execution_count": 55,
     "metadata": {},
     "output_type": "execute_result"
    }
   ],
   "source": [
    "data.item.count()"
   ]
  }
 ],
 "metadata": {
  "kernelspec": {
   "display_name": "Python 3 (ipykernel)",
   "language": "python",
   "name": "python3"
  },
  "language_info": {
   "codemirror_mode": {
    "name": "ipython",
    "version": 3
   },
   "file_extension": ".py",
   "mimetype": "text/x-python",
   "name": "python",
   "nbconvert_exporter": "python",
   "pygments_lexer": "ipython3",
   "version": "3.9.7"
  }
 },
 "nbformat": 4,
 "nbformat_minor": 5
}
