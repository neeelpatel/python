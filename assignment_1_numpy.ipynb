{
 "cells": [
  {
   "cell_type": "markdown",
   "metadata": {},
   "source": [
    "1. Import the numpy package under the name np "
   ]
  },
  {
   "cell_type": "code",
   "execution_count": 2,
   "metadata": {},
   "outputs": [],
   "source": [
    "import numpy as np"
   ]
  },
  {
   "cell_type": "markdown",
   "metadata": {},
   "source": [
    "2. Create a null vector of size 20"
   ]
  },
  {
   "cell_type": "code",
   "execution_count": 3,
   "metadata": {},
   "outputs": [
    {
     "data": {
      "text/plain": [
       "array([0., 0., 0., 0., 0., 0., 0., 0., 0., 0., 0., 0., 0., 0., 0., 0., 0.,\n",
       "       0., 0., 0.])"
      ]
     },
     "execution_count": 3,
     "metadata": {},
     "output_type": "execute_result"
    }
   ],
   "source": [
    "vector1 = np.zeros(20)\n",
    "vector1"
   ]
  },
  {
   "cell_type": "markdown",
   "metadata": {},
   "source": [
    "3. Create a null vector of size 10 but the second value which is 1 "
   ]
  },
  {
   "cell_type": "code",
   "execution_count": 7,
   "metadata": {},
   "outputs": [
    {
     "data": {
      "text/plain": [
       "array([0., 1., 0., 0., 0., 0., 0., 0., 0., 0.])"
      ]
     },
     "execution_count": 7,
     "metadata": {},
     "output_type": "execute_result"
    }
   ],
   "source": [
    "vector1 = np.zeros(10)\n",
    "vector1[1]=1\n",
    "vector1"
   ]
  },
  {
   "cell_type": "markdown",
   "metadata": {},
   "source": [
    "4. Create a vector with values ranging from 10 to 49"
   ]
  },
  {
   "cell_type": "code",
   "execution_count": 9,
   "metadata": {},
   "outputs": [
    {
     "data": {
      "text/plain": [
       "array([10, 11, 12, 13, 14, 15, 16, 17, 18, 19, 20, 21, 22, 23, 24, 25, 26,\n",
       "       27, 28, 29, 30, 31, 32, 33, 34, 35, 36, 37, 38, 39, 40, 41, 42, 43,\n",
       "       44, 45, 46, 47, 48, 49])"
      ]
     },
     "execution_count": 9,
     "metadata": {},
     "output_type": "execute_result"
    }
   ],
   "source": [
    "vector1 = np.arange(10,50,1)\n",
    "vector1"
   ]
  },
  {
   "cell_type": "markdown",
   "metadata": {},
   "source": [
    "5 Reverse a vector (first element becomes last"
   ]
  },
  {
   "cell_type": "code",
   "execution_count": 11,
   "metadata": {},
   "outputs": [
    {
     "data": {
      "text/plain": [
       "array([2, 9, 8, 7, 4, 3])"
      ]
     },
     "execution_count": 11,
     "metadata": {},
     "output_type": "execute_result"
    }
   ],
   "source": [
    "vector = np.array([3,4,7,8,9,2])\n",
    "reverse = vector[::-1]\n",
    "reverse"
   ]
  },
  {
   "cell_type": "markdown",
   "metadata": {},
   "source": [
    "6 Create a 3x3 matrix with values ranging from 0 to 8"
   ]
  },
  {
   "cell_type": "code",
   "execution_count": 12,
   "metadata": {},
   "outputs": [
    {
     "data": {
      "text/plain": [
       "array([[0, 1, 2],\n",
       "       [3, 4, 5],\n",
       "       [6, 7, 8]])"
      ]
     },
     "execution_count": 12,
     "metadata": {},
     "output_type": "execute_result"
    }
   ],
   "source": [
    "np.arange(0,9).reshape((3,3))"
   ]
  },
  {
   "cell_type": "markdown",
   "metadata": {},
   "source": [
    "7 Create a 3x3x3 array with random values "
   ]
  },
  {
   "cell_type": "code",
   "execution_count": 3,
   "metadata": {},
   "outputs": [
    {
     "data": {
      "text/plain": [
       "array([[[0.16290259, 0.16707625, 0.1404496 ],\n",
       "        [0.0035836 , 0.13244138, 0.16343701],\n",
       "        [0.50469489, 0.17656961, 0.32338629]],\n",
       "\n",
       "       [[0.76137273, 0.6098381 , 0.32313227],\n",
       "        [0.71081245, 0.20628816, 0.32741586],\n",
       "        [0.77369644, 0.96029078, 0.20497177]],\n",
       "\n",
       "       [[0.54036588, 0.53006326, 0.77157331],\n",
       "        [0.93964518, 0.92509467, 0.67023   ],\n",
       "        [0.5423994 , 0.93673436, 0.06281145]]])"
      ]
     },
     "execution_count": 3,
     "metadata": {},
     "output_type": "execute_result"
    }
   ],
   "source": [
    "np.random.rand(3,3,3)"
   ]
  },
  {
   "cell_type": "markdown",
   "metadata": {},
   "source": [
    "8. Create a 10x10 array with random values and find the minimum and maximum values\n"
   ]
  },
  {
   "cell_type": "code",
   "execution_count": 10,
   "metadata": {},
   "outputs": [
    {
     "name": "stdout",
     "output_type": "stream",
     "text": [
      "[[0.30228587 0.38124807 0.01777268 0.48490911 0.36918897 0.37389432\n",
      "  0.46369715 0.04638367 0.79710307 0.10058427]\n",
      " [0.93535058 0.71253845 0.14879664 0.72940139 0.58423605 0.09165169\n",
      "  0.4890191  0.83127145 0.31076352 0.86987096]\n",
      " [0.83725233 0.22830006 0.23491661 0.07748836 0.0564732  0.49174832\n",
      "  0.81224787 0.58717279 0.72712637 0.32198521]\n",
      " [0.03652039 0.91347423 0.67308053 0.09701369 0.18011149 0.02271859\n",
      "  0.91438312 0.97591158 0.1089896  0.52622068]\n",
      " [0.63043175 0.5086749  0.78837775 0.16744045 0.67798323 0.47433696\n",
      "  0.06405125 0.18313189 0.61803355 0.26999411]\n",
      " [0.66143017 0.99033562 0.77177456 0.62624565 0.1203419  0.61339491\n",
      "  0.40051274 0.46245218 0.79911692 0.88399726]\n",
      " [0.16345156 0.91599692 0.33816612 0.00334445 0.43289422 0.82434517\n",
      "  0.37199892 0.55203854 0.89151255 0.55565508]\n",
      " [0.39278159 0.04586836 0.88298708 0.58502602 0.78913154 0.11269379\n",
      "  0.5010918  0.84621429 0.93756675 0.31345757]\n",
      " [0.34600225 0.16154028 0.41221442 0.38417247 0.28472924 0.42819734\n",
      "  0.16621894 0.15871098 0.21196498 0.72865099]\n",
      " [0.53663706 0.62040413 0.37961892 0.23471595 0.67094369 0.29431675\n",
      "  0.31402767 0.31834259 0.6045757  0.90756186]]\n",
      "\n",
      "\n",
      "0.003344447538133788\n",
      "0.990335622689718\n"
     ]
    }
   ],
   "source": [
    "vector = np.random.rand(10,10)\n",
    "print(vector)\n",
    "print('\\n')\n",
    "print(vector.min())\n",
    "print(vector.max())"
   ]
  },
  {
   "cell_type": "markdown",
   "metadata": {},
   "source": [
    "9 Create a 5x5 matrix with row values ranging from 0 to 4 "
   ]
  },
  {
   "cell_type": "code",
   "execution_count": 12,
   "metadata": {},
   "outputs": [
    {
     "data": {
      "text/plain": [
       "array([0, 1, 2, 3, 4])"
      ]
     },
     "execution_count": 12,
     "metadata": {},
     "output_type": "execute_result"
    }
   ],
   "source": [
    "vector =np.arange(0,5)\n",
    "vector"
   ]
  },
  {
   "cell_type": "markdown",
   "metadata": {},
   "source": [
    "10 Create a vector of size 10 with values ranging from 0 to 1, both excluded"
   ]
  },
  {
   "cell_type": "code",
   "execution_count": 25,
   "metadata": {},
   "outputs": [
    {
     "data": {
      "text/plain": [
       "array([0.11111111, 0.22222222, 0.33333333, 0.44444444, 0.55555556,\n",
       "       0.66666667, 0.77777778, 0.88888889])"
      ]
     },
     "execution_count": 25,
     "metadata": {},
     "output_type": "execute_result"
    }
   ],
   "source": [
    "np.linspace(0,1,10,endpoint=True)[1:-1]"
   ]
  },
  {
   "cell_type": "markdown",
   "metadata": {},
   "source": [
    "11. Create a random vector of size 10 and sort it \n"
   ]
  },
  {
   "cell_type": "code",
   "execution_count": 16,
   "metadata": {},
   "outputs": [
    {
     "name": "stdout",
     "output_type": "stream",
     "text": [
      "[ 8 18 23 46 47 53 62 76 81 83]\n"
     ]
    }
   ],
   "source": [
    "x = np.random.random(10)\n",
    "print(vector)\n",
    "x.sort()\n"
   ]
  },
  {
   "cell_type": "markdown",
   "metadata": {},
   "source": [
    "12 How to convert a float (32 bits) array into an integer (32 bits) in place?"
   ]
  },
  {
   "cell_type": "code",
   "execution_count": 25,
   "metadata": {},
   "outputs": [
    {
     "name": "stdout",
     "output_type": "stream",
     "text": [
      "[3.  5.  3.5 7.9 2.2 7.5]\n"
     ]
    },
    {
     "data": {
      "text/plain": [
       "array([3, 5, 3, 7, 2, 7], dtype=int32)"
      ]
     },
     "execution_count": 25,
     "metadata": {},
     "output_type": "execute_result"
    }
   ],
   "source": [
    "x= np.array([3,5,3.5,7.9,2.2,7.5],dtype='f')\n",
    "print(x)\n",
    "newarr=x.astype('i')\n",
    "newarr"
   ]
  },
  {
   "cell_type": "markdown",
   "metadata": {},
   "source": [
    "13 How to swap two rows of an array?"
   ]
  },
  {
   "cell_type": "code",
   "execution_count": 36,
   "metadata": {},
   "outputs": [
    {
     "name": "stdout",
     "output_type": "stream",
     "text": [
      "[[8 9 0]\n",
      " [3 4 5]]\n"
     ]
    }
   ],
   "source": [
    "a = np.array([[3,4,5],[8,9,0]])\n",
    "a[[0,1]]=a[[1,0]]\n",
    "print(a)"
   ]
  },
  {
   "cell_type": "markdown",
   "metadata": {},
   "source": [
    "14 How to find the most frequent value in an array?\n"
   ]
  },
  {
   "cell_type": "code",
   "execution_count": 41,
   "metadata": {},
   "outputs": [
    {
     "data": {
      "text/plain": [
       "2"
      ]
     },
     "execution_count": 41,
     "metadata": {},
     "output_type": "execute_result"
    }
   ],
   "source": [
    "y = np.array([2,5,3,2,8,7,2])\n",
    "np.bincount(y).argmax()"
   ]
  },
  {
   "cell_type": "markdown",
   "metadata": {},
   "source": [
    "15  How to reshape an array?"
   ]
  },
  {
   "cell_type": "code",
   "execution_count": 52,
   "metadata": {},
   "outputs": [
    {
     "data": {
      "text/plain": [
       "array([[[1, 2],\n",
       "        [4, 5]],\n",
       "\n",
       "       [[8, 9],\n",
       "        [0, 9]]])"
      ]
     },
     "execution_count": 52,
     "metadata": {},
     "output_type": "execute_result"
    }
   ],
   "source": [
    "arr = np.array([[1,2,4,5,8,9,0,9]])\n",
    "newarr = arr.reshape(2,2,2)\n",
    "newarr"
   ]
  },
  {
   "cell_type": "markdown",
   "metadata": {},
   "source": [
    "16. Write a NumPy program to add, subtract, multiply, divide arguments element-wise.\n",
    "\n",
    "val1: 7\n",
    "val2: 3"
   ]
  },
  {
   "cell_type": "code",
   "execution_count": 64,
   "metadata": {},
   "outputs": [
    {
     "name": "stdout",
     "output_type": "stream",
     "text": [
      "10\n",
      "4\n",
      "21\n",
      "2.3333333333333335\n"
     ]
    }
   ],
   "source": [
    "var1 = 7\n",
    "var2 = 3\n",
    "print(np.add(var1,var2))\n",
    "print(np.subtract(var1,var2))\n",
    "print(np.multiply(var1,var2))\n",
    "print(np.divide(var1,var2))"
   ]
  },
  {
   "cell_type": "markdown",
   "metadata": {},
   "source": [
    "17 Write a NumPy program to calculate the absolute value element-wise.\n",
    "\n",
    "[-10.2, 122.2, -.20]"
   ]
  },
  {
   "cell_type": "code",
   "execution_count": 66,
   "metadata": {},
   "outputs": [
    {
     "name": "stdout",
     "output_type": "stream",
     "text": [
      "[ 10.2 122.2   0.2]\n"
     ]
    }
   ],
   "source": [
    "arr = np.array([-10.2,122.2,-0.20])\n",
    "print(np.fabs(arr))"
   ]
  },
  {
   "cell_type": "markdown",
   "metadata": {},
   "source": [
    "18 Write a NumPy program to round elements of the array to the nearest integer.\n",
    "[-.7, -1.5, -1.7, 0.3, 1.5, 1.8, 2.0]   "
   ]
  },
  {
   "cell_type": "code",
   "execution_count": 69,
   "metadata": {},
   "outputs": [
    {
     "name": "stdout",
     "output_type": "stream",
     "text": [
      "[-1. -2. -2.  0.  2.  2.  2.]\n"
     ]
    }
   ],
   "source": [
    "arr = np.array([-0.7,-1.5,-1.7,0.3,1.5,1.8,2.0])\n",
    "print(np.rint(arr))"
   ]
  },
  {
   "cell_type": "markdown",
   "metadata": {},
   "source": [
    "19 Write a NumPy program to compute the mean, average of given array .\n",
    "\n",
    "[0 1 2 3 4 5]"
   ]
  },
  {
   "cell_type": "code",
   "execution_count": 73,
   "metadata": {},
   "outputs": [
    {
     "name": "stdout",
     "output_type": "stream",
     "text": [
      "2.5\n",
      "2.5\n"
     ]
    }
   ],
   "source": [
    "arr= np.array([0,1,2,3,4,5])\n",
    "print(np.mean(arr))\n",
    "print(np.average(arr))\n"
   ]
  },
  {
   "cell_type": "markdown",
   "metadata": {},
   "source": [
    "20 Write a NumPy program to compute  standard deviation, and variance of a given array .\n",
    "\n",
    "[2,4,6,7,8]"
   ]
  },
  {
   "cell_type": "code",
   "execution_count": 75,
   "metadata": {},
   "outputs": [
    {
     "name": "stdout",
     "output_type": "stream",
     "text": [
      "2.1540659228538015\n",
      "4.64\n"
     ]
    }
   ],
   "source": [
    "arr = np.array([2,4,6,7,8])\n",
    "print(np.std(arr))\n",
    "print(np.var(arr))"
   ]
  },
  {
   "cell_type": "code",
   "execution_count": null,
   "metadata": {},
   "outputs": [],
   "source": []
  },
  {
   "cell_type": "code",
   "execution_count": null,
   "metadata": {},
   "outputs": [],
   "source": []
  },
  {
   "cell_type": "code",
   "execution_count": null,
   "metadata": {},
   "outputs": [],
   "source": []
  }
 ],
 "metadata": {
  "kernelspec": {
   "display_name": "Python 3 (ipykernel)",
   "language": "python",
   "name": "python3"
  },
  "language_info": {
   "codemirror_mode": {
    "name": "ipython",
    "version": 3
   },
   "file_extension": ".py",
   "mimetype": "text/x-python",
   "name": "python",
   "nbconvert_exporter": "python",
   "pygments_lexer": "ipython3",
   "version": "3.9.7"
  }
 },
 "nbformat": 4,
 "nbformat_minor": 4
}
