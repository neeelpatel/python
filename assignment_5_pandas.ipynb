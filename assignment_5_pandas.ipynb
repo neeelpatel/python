{
 "cells": [
  {
   "cell_type": "code",
   "execution_count": 1,
   "id": "5352c8df",
   "metadata": {},
   "outputs": [],
   "source": [
    "import pandas as pd"
   ]
  },
  {
   "cell_type": "code",
   "execution_count": 3,
   "id": "52cee27f",
   "metadata": {},
   "outputs": [
    {
     "data": {
      "text/plain": [
       "'F:\\\\neel\\\\fingertips\\\\python\\\\jupyternotbook'"
      ]
     },
     "execution_count": 3,
     "metadata": {},
     "output_type": "execute_result"
    }
   ],
   "source": [
    "%pwd"
   ]
  },
  {
   "cell_type": "code",
   "execution_count": 7,
   "id": "0581e68f",
   "metadata": {},
   "outputs": [],
   "source": [
    "data = pd.read_csv('F:\\\\neel\\\\fingertips\\\\python\\\\jupyternotbook\\\\movie.csv',encoding='latin-1')"
   ]
  },
  {
   "cell_type": "code",
   "execution_count": 8,
   "id": "de50dd42",
   "metadata": {},
   "outputs": [
    {
     "data": {
      "text/html": [
       "<div>\n",
       "<style scoped>\n",
       "    .dataframe tbody tr th:only-of-type {\n",
       "        vertical-align: middle;\n",
       "    }\n",
       "\n",
       "    .dataframe tbody tr th {\n",
       "        vertical-align: top;\n",
       "    }\n",
       "\n",
       "    .dataframe thead th {\n",
       "        text-align: right;\n",
       "    }\n",
       "</style>\n",
       "<table border=\"1\" class=\"dataframe\">\n",
       "  <thead>\n",
       "    <tr style=\"text-align: right;\">\n",
       "      <th></th>\n",
       "      <th>FF</th>\n",
       "      <th>Title</th>\n",
       "      <th>DIR</th>\n",
       "    </tr>\n",
       "  </thead>\n",
       "  <tbody>\n",
       "    <tr>\n",
       "      <th>0</th>\n",
       "      <td>2005</td>\n",
       "      <td>1990: Bronx Warriors</td>\n",
       "      <td>Enzo Castellari</td>\n",
       "    </tr>\n",
       "    <tr>\n",
       "      <th>1</th>\n",
       "      <td>2005</td>\n",
       "      <td>Creep</td>\n",
       "      <td>Christopher Smith</td>\n",
       "    </tr>\n",
       "    <tr>\n",
       "      <th>2</th>\n",
       "      <td>2005</td>\n",
       "      <td>Feast</td>\n",
       "      <td>John Gulager</td>\n",
       "    </tr>\n",
       "    <tr>\n",
       "      <th>3</th>\n",
       "      <td>2005</td>\n",
       "      <td>G.O.R.A.</td>\n",
       "      <td>ÌÐmer Faruk Sorak</td>\n",
       "    </tr>\n",
       "    <tr>\n",
       "      <th>4</th>\n",
       "      <td>2005</td>\n",
       "      <td>Hakugei: Legend of the Moby Dick</td>\n",
       "      <td>Osamu Dezaki</td>\n",
       "    </tr>\n",
       "    <tr>\n",
       "      <th>...</th>\n",
       "      <td>...</td>\n",
       "      <td>...</td>\n",
       "      <td>...</td>\n",
       "    </tr>\n",
       "    <tr>\n",
       "      <th>904</th>\n",
       "      <td>2017</td>\n",
       "      <td>See You Up There</td>\n",
       "      <td>Albert Dupontel</td>\n",
       "    </tr>\n",
       "    <tr>\n",
       "      <th>905</th>\n",
       "      <td>2017</td>\n",
       "      <td>Tabula Rasa</td>\n",
       "      <td>Jonas Govaerts &amp; Kaat Beels / Malin-Sarah Gozin</td>\n",
       "    </tr>\n",
       "    <tr>\n",
       "      <th>906</th>\n",
       "      <td>2017</td>\n",
       "      <td>Wizard</td>\n",
       "      <td>Kagiso Lediga</td>\n",
       "    </tr>\n",
       "    <tr>\n",
       "      <th>907</th>\n",
       "      <td>2017</td>\n",
       "      <td>Death of Stalin, The</td>\n",
       "      <td>Armando Iannucci</td>\n",
       "    </tr>\n",
       "    <tr>\n",
       "      <th>908</th>\n",
       "      <td>2017</td>\n",
       "      <td>Take It Out in Trade</td>\n",
       "      <td>Edward D. Wood Jr.</td>\n",
       "    </tr>\n",
       "  </tbody>\n",
       "</table>\n",
       "<p>909 rows × 3 columns</p>\n",
       "</div>"
      ],
      "text/plain": [
       "       FF                             Title  \\\n",
       "0    2005              1990: Bronx Warriors   \n",
       "1    2005                             Creep   \n",
       "2    2005                             Feast   \n",
       "3    2005                          G.O.R.A.   \n",
       "4    2005  Hakugei: Legend of the Moby Dick   \n",
       "..    ...                               ...   \n",
       "904  2017                  See You Up There   \n",
       "905  2017                       Tabula Rasa   \n",
       "906  2017                            Wizard   \n",
       "907  2017              Death of Stalin, The   \n",
       "908  2017              Take It Out in Trade   \n",
       "\n",
       "                                                 DIR  \n",
       "0                                    Enzo Castellari  \n",
       "1                                  Christopher Smith  \n",
       "2                                       John Gulager  \n",
       "3                                  ÌÐmer Faruk Sorak  \n",
       "4                                       Osamu Dezaki  \n",
       "..                                               ...  \n",
       "904                                  Albert Dupontel  \n",
       "905  Jonas Govaerts & Kaat Beels / Malin-Sarah Gozin  \n",
       "906                                    Kagiso Lediga  \n",
       "907                                 Armando Iannucci  \n",
       "908                               Edward D. Wood Jr.  \n",
       "\n",
       "[909 rows x 3 columns]"
      ]
     },
     "execution_count": 8,
     "metadata": {},
     "output_type": "execute_result"
    }
   ],
   "source": [
    "data"
   ]
  },
  {
   "cell_type": "markdown",
   "id": "7dbccf5e",
   "metadata": {},
   "source": [
    "1) What are the datatypes of the column of the dataset.\n"
   ]
  },
  {
   "cell_type": "code",
   "execution_count": 9,
   "id": "350dda35",
   "metadata": {},
   "outputs": [
    {
     "name": "stdout",
     "output_type": "stream",
     "text": [
      "<class 'pandas.core.frame.DataFrame'>\n",
      "RangeIndex: 909 entries, 0 to 908\n",
      "Data columns (total 3 columns):\n",
      " #   Column  Non-Null Count  Dtype \n",
      "---  ------  --------------  ----- \n",
      " 0   FF      909 non-null    int64 \n",
      " 1   Title   909 non-null    object\n",
      " 2   DIR     909 non-null    object\n",
      "dtypes: int64(1), object(2)\n",
      "memory usage: 21.4+ KB\n"
     ]
    }
   ],
   "source": [
    "data.info()"
   ]
  },
  {
   "cell_type": "markdown",
   "id": "c9d9bf54",
   "metadata": {},
   "source": [
    "2) Get the Basic Statistics of Dataset.\n"
   ]
  },
  {
   "cell_type": "code",
   "execution_count": 10,
   "id": "bfd4bac8",
   "metadata": {},
   "outputs": [
    {
     "data": {
      "text/html": [
       "<div>\n",
       "<style scoped>\n",
       "    .dataframe tbody tr th:only-of-type {\n",
       "        vertical-align: middle;\n",
       "    }\n",
       "\n",
       "    .dataframe tbody tr th {\n",
       "        vertical-align: top;\n",
       "    }\n",
       "\n",
       "    .dataframe thead th {\n",
       "        text-align: right;\n",
       "    }\n",
       "</style>\n",
       "<table border=\"1\" class=\"dataframe\">\n",
       "  <thead>\n",
       "    <tr style=\"text-align: right;\">\n",
       "      <th></th>\n",
       "      <th>FF</th>\n",
       "    </tr>\n",
       "  </thead>\n",
       "  <tbody>\n",
       "    <tr>\n",
       "      <th>count</th>\n",
       "      <td>909.000000</td>\n",
       "    </tr>\n",
       "    <tr>\n",
       "      <th>mean</th>\n",
       "      <td>2011.656766</td>\n",
       "    </tr>\n",
       "    <tr>\n",
       "      <th>std</th>\n",
       "      <td>3.506274</td>\n",
       "    </tr>\n",
       "    <tr>\n",
       "      <th>min</th>\n",
       "      <td>2005.000000</td>\n",
       "    </tr>\n",
       "    <tr>\n",
       "      <th>25%</th>\n",
       "      <td>2009.000000</td>\n",
       "    </tr>\n",
       "    <tr>\n",
       "      <th>50%</th>\n",
       "      <td>2012.000000</td>\n",
       "    </tr>\n",
       "    <tr>\n",
       "      <th>75%</th>\n",
       "      <td>2015.000000</td>\n",
       "    </tr>\n",
       "    <tr>\n",
       "      <th>max</th>\n",
       "      <td>2017.000000</td>\n",
       "    </tr>\n",
       "  </tbody>\n",
       "</table>\n",
       "</div>"
      ],
      "text/plain": [
       "                FF\n",
       "count   909.000000\n",
       "mean   2011.656766\n",
       "std       3.506274\n",
       "min    2005.000000\n",
       "25%    2009.000000\n",
       "50%    2012.000000\n",
       "75%    2015.000000\n",
       "max    2017.000000"
      ]
     },
     "execution_count": 10,
     "metadata": {},
     "output_type": "execute_result"
    }
   ],
   "source": [
    "data.describe()"
   ]
  },
  {
   "cell_type": "markdown",
   "id": "8c1d167c",
   "metadata": {},
   "source": [
    "3) Calculate the Length of the string in Title.\n"
   ]
  },
  {
   "cell_type": "code",
   "execution_count": 12,
   "id": "74794c12",
   "metadata": {},
   "outputs": [
    {
     "data": {
      "text/plain": [
       "909"
      ]
     },
     "execution_count": 12,
     "metadata": {},
     "output_type": "execute_result"
    }
   ],
   "source": [
    "len(data['Title'])"
   ]
  },
  {
   "cell_type": "markdown",
   "id": "ebb1cf69",
   "metadata": {},
   "source": [
    "4) Calculate the Length of the DIR column in dataset\n"
   ]
  },
  {
   "cell_type": "code",
   "execution_count": 13,
   "id": "785c88e3",
   "metadata": {},
   "outputs": [
    {
     "data": {
      "text/plain": [
       "909"
      ]
     },
     "execution_count": 13,
     "metadata": {},
     "output_type": "execute_result"
    }
   ],
   "source": [
    "len(data['DIR'])"
   ]
  },
  {
   "cell_type": "markdown",
   "id": "6fd5a3aa",
   "metadata": {},
   "source": [
    "5) Check for the Datatype after checking the Length of the Title and DIR columns.\n"
   ]
  },
  {
   "cell_type": "code",
   "execution_count": 21,
   "id": "daa5d8ea",
   "metadata": {},
   "outputs": [
    {
     "data": {
      "text/plain": [
       "FF        int64\n",
       "Title    object\n",
       "DIR      object\n",
       "dtype: object"
      ]
     },
     "execution_count": 21,
     "metadata": {},
     "output_type": "execute_result"
    }
   ],
   "source": [
    "data.dtypes"
   ]
  },
  {
   "cell_type": "markdown",
   "id": "a6001416",
   "metadata": {},
   "source": [
    "6) Convert Title column back to Object format from Numeric.\n"
   ]
  },
  {
   "cell_type": "code",
   "execution_count": 26,
   "id": "37971d62",
   "metadata": {},
   "outputs": [],
   "source": [
    "data['Title'] = data['Title'].astype(object)"
   ]
  },
  {
   "cell_type": "markdown",
   "id": "1e9f2674",
   "metadata": {},
   "source": [
    "7) Convert DIR column back to Object format from Numeric.\n"
   ]
  },
  {
   "cell_type": "code",
   "execution_count": 27,
   "id": "44aa3870",
   "metadata": {},
   "outputs": [
    {
     "data": {
      "text/plain": [
       "FF        int64\n",
       "Title    object\n",
       "DIR      object\n",
       "dtype: object"
      ]
     },
     "execution_count": 27,
     "metadata": {},
     "output_type": "execute_result"
    }
   ],
   "source": [
    "data.dtypes"
   ]
  },
  {
   "cell_type": "code",
   "execution_count": 28,
   "id": "d9803b3a",
   "metadata": {},
   "outputs": [],
   "source": [
    "data['DIR']=data['DIR'].astype(object)"
   ]
  },
  {
   "cell_type": "markdown",
   "id": "34b9faf7",
   "metadata": {},
   "source": [
    "8) Checking the Datatype after converting back to Object.\n"
   ]
  },
  {
   "cell_type": "code",
   "execution_count": 29,
   "id": "e4f6c497",
   "metadata": {},
   "outputs": [
    {
     "data": {
      "text/plain": [
       "FF        int64\n",
       "Title    object\n",
       "DIR      object\n",
       "dtype: object"
      ]
     },
     "execution_count": 29,
     "metadata": {},
     "output_type": "execute_result"
    }
   ],
   "source": [
    "data.dtypes"
   ]
  },
  {
   "cell_type": "markdown",
   "id": "12f9e4d2",
   "metadata": {},
   "source": [
    "9) Convert the Director's name in Upper case.\n"
   ]
  },
  {
   "cell_type": "code",
   "execution_count": 30,
   "id": "8a7706bd",
   "metadata": {},
   "outputs": [
    {
     "data": {
      "text/html": [
       "<div>\n",
       "<style scoped>\n",
       "    .dataframe tbody tr th:only-of-type {\n",
       "        vertical-align: middle;\n",
       "    }\n",
       "\n",
       "    .dataframe tbody tr th {\n",
       "        vertical-align: top;\n",
       "    }\n",
       "\n",
       "    .dataframe thead th {\n",
       "        text-align: right;\n",
       "    }\n",
       "</style>\n",
       "<table border=\"1\" class=\"dataframe\">\n",
       "  <thead>\n",
       "    <tr style=\"text-align: right;\">\n",
       "      <th></th>\n",
       "      <th>FF</th>\n",
       "      <th>Title</th>\n",
       "      <th>DIR</th>\n",
       "    </tr>\n",
       "  </thead>\n",
       "  <tbody>\n",
       "    <tr>\n",
       "      <th>0</th>\n",
       "      <td>2005</td>\n",
       "      <td>1990: Bronx Warriors</td>\n",
       "      <td>Enzo Castellari</td>\n",
       "    </tr>\n",
       "    <tr>\n",
       "      <th>1</th>\n",
       "      <td>2005</td>\n",
       "      <td>Creep</td>\n",
       "      <td>Christopher Smith</td>\n",
       "    </tr>\n",
       "    <tr>\n",
       "      <th>2</th>\n",
       "      <td>2005</td>\n",
       "      <td>Feast</td>\n",
       "      <td>John Gulager</td>\n",
       "    </tr>\n",
       "    <tr>\n",
       "      <th>3</th>\n",
       "      <td>2005</td>\n",
       "      <td>G.O.R.A.</td>\n",
       "      <td>ÌÐmer Faruk Sorak</td>\n",
       "    </tr>\n",
       "    <tr>\n",
       "      <th>4</th>\n",
       "      <td>2005</td>\n",
       "      <td>Hakugei: Legend of the Moby Dick</td>\n",
       "      <td>Osamu Dezaki</td>\n",
       "    </tr>\n",
       "  </tbody>\n",
       "</table>\n",
       "</div>"
      ],
      "text/plain": [
       "     FF                             Title                DIR\n",
       "0  2005              1990: Bronx Warriors    Enzo Castellari\n",
       "1  2005                             Creep  Christopher Smith\n",
       "2  2005                             Feast       John Gulager\n",
       "3  2005                          G.O.R.A.  ÌÐmer Faruk Sorak\n",
       "4  2005  Hakugei: Legend of the Moby Dick       Osamu Dezaki"
      ]
     },
     "execution_count": 30,
     "metadata": {},
     "output_type": "execute_result"
    }
   ],
   "source": [
    "data.head()"
   ]
  },
  {
   "cell_type": "code",
   "execution_count": 36,
   "id": "17566f7f",
   "metadata": {},
   "outputs": [],
   "source": [
    "data['DIR']=data['DIR'].str.upper()"
   ]
  },
  {
   "cell_type": "code",
   "execution_count": 37,
   "id": "7c1eb95a",
   "metadata": {},
   "outputs": [
    {
     "data": {
      "text/html": [
       "<div>\n",
       "<style scoped>\n",
       "    .dataframe tbody tr th:only-of-type {\n",
       "        vertical-align: middle;\n",
       "    }\n",
       "\n",
       "    .dataframe tbody tr th {\n",
       "        vertical-align: top;\n",
       "    }\n",
       "\n",
       "    .dataframe thead th {\n",
       "        text-align: right;\n",
       "    }\n",
       "</style>\n",
       "<table border=\"1\" class=\"dataframe\">\n",
       "  <thead>\n",
       "    <tr style=\"text-align: right;\">\n",
       "      <th></th>\n",
       "      <th>FF</th>\n",
       "      <th>Title</th>\n",
       "      <th>DIR</th>\n",
       "    </tr>\n",
       "  </thead>\n",
       "  <tbody>\n",
       "    <tr>\n",
       "      <th>0</th>\n",
       "      <td>2005</td>\n",
       "      <td>1990: Bronx Warriors</td>\n",
       "      <td>ENZO CASTELLARI</td>\n",
       "    </tr>\n",
       "    <tr>\n",
       "      <th>1</th>\n",
       "      <td>2005</td>\n",
       "      <td>Creep</td>\n",
       "      <td>CHRISTOPHER SMITH</td>\n",
       "    </tr>\n",
       "    <tr>\n",
       "      <th>2</th>\n",
       "      <td>2005</td>\n",
       "      <td>Feast</td>\n",
       "      <td>JOHN GULAGER</td>\n",
       "    </tr>\n",
       "    <tr>\n",
       "      <th>3</th>\n",
       "      <td>2005</td>\n",
       "      <td>G.O.R.A.</td>\n",
       "      <td>ÌÐMER FARUK SORAK</td>\n",
       "    </tr>\n",
       "    <tr>\n",
       "      <th>4</th>\n",
       "      <td>2005</td>\n",
       "      <td>Hakugei: Legend of the Moby Dick</td>\n",
       "      <td>OSAMU DEZAKI</td>\n",
       "    </tr>\n",
       "    <tr>\n",
       "      <th>...</th>\n",
       "      <td>...</td>\n",
       "      <td>...</td>\n",
       "      <td>...</td>\n",
       "    </tr>\n",
       "    <tr>\n",
       "      <th>904</th>\n",
       "      <td>2017</td>\n",
       "      <td>See You Up There</td>\n",
       "      <td>ALBERT DUPONTEL</td>\n",
       "    </tr>\n",
       "    <tr>\n",
       "      <th>905</th>\n",
       "      <td>2017</td>\n",
       "      <td>Tabula Rasa</td>\n",
       "      <td>JONAS GOVAERTS &amp; KAAT BEELS / MALIN-SARAH GOZIN</td>\n",
       "    </tr>\n",
       "    <tr>\n",
       "      <th>906</th>\n",
       "      <td>2017</td>\n",
       "      <td>Wizard</td>\n",
       "      <td>KAGISO LEDIGA</td>\n",
       "    </tr>\n",
       "    <tr>\n",
       "      <th>907</th>\n",
       "      <td>2017</td>\n",
       "      <td>Death of Stalin, The</td>\n",
       "      <td>ARMANDO IANNUCCI</td>\n",
       "    </tr>\n",
       "    <tr>\n",
       "      <th>908</th>\n",
       "      <td>2017</td>\n",
       "      <td>Take It Out in Trade</td>\n",
       "      <td>EDWARD D. WOOD JR.</td>\n",
       "    </tr>\n",
       "  </tbody>\n",
       "</table>\n",
       "<p>909 rows × 3 columns</p>\n",
       "</div>"
      ],
      "text/plain": [
       "       FF                             Title  \\\n",
       "0    2005              1990: Bronx Warriors   \n",
       "1    2005                             Creep   \n",
       "2    2005                             Feast   \n",
       "3    2005                          G.O.R.A.   \n",
       "4    2005  Hakugei: Legend of the Moby Dick   \n",
       "..    ...                               ...   \n",
       "904  2017                  See You Up There   \n",
       "905  2017                       Tabula Rasa   \n",
       "906  2017                            Wizard   \n",
       "907  2017              Death of Stalin, The   \n",
       "908  2017              Take It Out in Trade   \n",
       "\n",
       "                                                 DIR  \n",
       "0                                    ENZO CASTELLARI  \n",
       "1                                  CHRISTOPHER SMITH  \n",
       "2                                       JOHN GULAGER  \n",
       "3                                  ÌÐMER FARUK SORAK  \n",
       "4                                       OSAMU DEZAKI  \n",
       "..                                               ...  \n",
       "904                                  ALBERT DUPONTEL  \n",
       "905  JONAS GOVAERTS & KAAT BEELS / MALIN-SARAH GOZIN  \n",
       "906                                    KAGISO LEDIGA  \n",
       "907                                 ARMANDO IANNUCCI  \n",
       "908                               EDWARD D. WOOD JR.  \n",
       "\n",
       "[909 rows x 3 columns]"
      ]
     },
     "execution_count": 37,
     "metadata": {},
     "output_type": "execute_result"
    }
   ],
   "source": [
    "data"
   ]
  },
  {
   "cell_type": "markdown",
   "id": "8b91d18c",
   "metadata": {},
   "source": [
    "10) Replace the & in the DIR column with and.\n"
   ]
  },
  {
   "cell_type": "code",
   "execution_count": 42,
   "id": "88d4a413",
   "metadata": {},
   "outputs": [
    {
     "data": {
      "text/plain": [
       "0                                      ENZO CASTELLARI\n",
       "1                                    CHRISTOPHER SMITH\n",
       "2                                         JOHN GULAGER\n",
       "3                                    ÌÐMER FARUK SORAK\n",
       "4                                         OSAMU DEZAKI\n",
       "                            ...                       \n",
       "904                                    ALBERT DUPONTEL\n",
       "905    JONAS GOVAERTS & KAAT BEELS / MALIN-SARAH GOZIN\n",
       "906                                      KAGISO LEDIGA\n",
       "907                                   ARMANDO IANNUCCI\n",
       "908                                 EDWARD D. WOOD JR.\n",
       "Name: DIR, Length: 909, dtype: object"
      ]
     },
     "execution_count": 42,
     "metadata": {},
     "output_type": "execute_result"
    }
   ],
   "source": [
    "data['DIR'].replace('&','and')"
   ]
  },
  {
   "cell_type": "markdown",
   "id": "cd07320e",
   "metadata": {},
   "source": [
    "11) Remove the white space from the Left side of the string for Director column.\n"
   ]
  },
  {
   "cell_type": "code",
   "execution_count": 44,
   "id": "3af9fff8",
   "metadata": {},
   "outputs": [
    {
     "data": {
      "text/plain": [
       "0                                      ENZO CASTELLARI\n",
       "1                                    CHRISTOPHER SMITH\n",
       "2                                         JOHN GULAGER\n",
       "3                                    ÌÐMER FARUK SORAK\n",
       "4                                         OSAMU DEZAKI\n",
       "                            ...                       \n",
       "904                                    ALBERT DUPONTEL\n",
       "905    JONAS GOVAERTS & KAAT BEELS / MALIN-SARAH GOZIN\n",
       "906                                      KAGISO LEDIGA\n",
       "907                                   ARMANDO IANNUCCI\n",
       "908                                 EDWARD D. WOOD JR.\n",
       "Name: DIR, Length: 909, dtype: object"
      ]
     },
     "execution_count": 44,
     "metadata": {},
     "output_type": "execute_result"
    }
   ],
   "source": [
    "data['DIR'].str.lstrip()"
   ]
  },
  {
   "cell_type": "markdown",
   "id": "7578895e",
   "metadata": {},
   "source": [
    "12) Remove the white space from the right side of the string for Director column.\n"
   ]
  },
  {
   "cell_type": "code",
   "execution_count": 45,
   "id": "1f449aac",
   "metadata": {},
   "outputs": [
    {
     "data": {
      "text/plain": [
       "0                                      ENZO CASTELLARI\n",
       "1                                    CHRISTOPHER SMITH\n",
       "2                                         JOHN GULAGER\n",
       "3                                    ÌÐMER FARUK SORAK\n",
       "4                                         OSAMU DEZAKI\n",
       "                            ...                       \n",
       "904                                    ALBERT DUPONTEL\n",
       "905    JONAS GOVAERTS & KAAT BEELS / MALIN-SARAH GOZIN\n",
       "906                                      KAGISO LEDIGA\n",
       "907                                   ARMANDO IANNUCCI\n",
       "908                                 EDWARD D. WOOD JR.\n",
       "Name: DIR, Length: 909, dtype: object"
      ]
     },
     "execution_count": 45,
     "metadata": {},
     "output_type": "execute_result"
    }
   ],
   "source": [
    "data['DIR'].str.rstrip()"
   ]
  },
  {
   "cell_type": "markdown",
   "id": "e0bf111b",
   "metadata": {},
   "source": [
    "13) Show the name of director with minimum length.\n"
   ]
  },
  {
   "cell_type": "code",
   "execution_count": 46,
   "id": "62bbc9cb",
   "metadata": {},
   "outputs": [
    {
     "data": {
      "text/plain": [
       "33"
      ]
     },
     "execution_count": 46,
     "metadata": {},
     "output_type": "execute_result"
    }
   ],
   "source": [
    "len(data['DIR'].min())"
   ]
  },
  {
   "cell_type": "markdown",
   "id": "49c8ba4f",
   "metadata": {},
   "source": [
    "14) Show the name of director with maximum length.\n"
   ]
  },
  {
   "cell_type": "code",
   "execution_count": 47,
   "id": "fabc07fe",
   "metadata": {},
   "outputs": [
    {
     "data": {
      "text/plain": [
       "16"
      ]
     },
     "execution_count": 47,
     "metadata": {},
     "output_type": "execute_result"
    }
   ],
   "source": [
    "len(data['DIR'].max())"
   ]
  },
  {
   "cell_type": "markdown",
   "id": "cbbb2aab",
   "metadata": {},
   "source": [
    "15) Remove the white space from the Left side of the string for Title column.\n"
   ]
  },
  {
   "cell_type": "code",
   "execution_count": 48,
   "id": "55ec8015",
   "metadata": {},
   "outputs": [
    {
     "data": {
      "text/plain": [
       "0                  1990: Bronx Warriors\n",
       "1                                 Creep\n",
       "2                                 Feast\n",
       "3                              G.O.R.A.\n",
       "4      Hakugei: Legend of the Moby Dick\n",
       "                     ...               \n",
       "904                    See You Up There\n",
       "905                         Tabula Rasa\n",
       "906                              Wizard\n",
       "907                Death of Stalin, The\n",
       "908                Take It Out in Trade\n",
       "Name: Title, Length: 909, dtype: object"
      ]
     },
     "execution_count": 48,
     "metadata": {},
     "output_type": "execute_result"
    }
   ],
   "source": [
    "data['Title'].str.lstrip()"
   ]
  },
  {
   "cell_type": "markdown",
   "id": "df2629c5",
   "metadata": {},
   "source": [
    "16) Remove the white space from the right side of the string for Title column.\n"
   ]
  },
  {
   "cell_type": "code",
   "execution_count": 50,
   "id": "1711727a",
   "metadata": {},
   "outputs": [
    {
     "data": {
      "text/plain": [
       "0                  1990: Bronx Warriors\n",
       "1                                 Creep\n",
       "2                                 Feast\n",
       "3                              G.O.R.A.\n",
       "4      Hakugei: Legend of the Moby Dick\n",
       "                     ...               \n",
       "904                    See You Up There\n",
       "905                         Tabula Rasa\n",
       "906                              Wizard\n",
       "907                Death of Stalin, The\n",
       "908                Take It Out in Trade\n",
       "Name: Title, Length: 909, dtype: object"
      ]
     },
     "execution_count": 50,
     "metadata": {},
     "output_type": "execute_result"
    }
   ],
   "source": [
    "data['Title'].str.rstrip()"
   ]
  },
  {
   "cell_type": "markdown",
   "id": "6bb2d1e5",
   "metadata": {},
   "source": [
    "17) Show the title of movie with minimum length.\n"
   ]
  },
  {
   "cell_type": "code",
   "execution_count": 52,
   "id": "03b83c5d",
   "metadata": {},
   "outputs": [
    {
     "data": {
      "text/plain": [
       "'1%'"
      ]
     },
     "execution_count": 52,
     "metadata": {},
     "output_type": "execute_result"
    }
   ],
   "source": [
    "data['Title'].min()"
   ]
  },
  {
   "cell_type": "markdown",
   "id": "0894de2e",
   "metadata": {},
   "source": [
    "18) Show the title of movie with maximum length.\n"
   ]
  },
  {
   "cell_type": "code",
   "execution_count": 53,
   "id": "b4046888",
   "metadata": {},
   "outputs": [
    {
     "data": {
      "text/plain": [
       "'mon mon mon MONSTERS'"
      ]
     },
     "execution_count": 53,
     "metadata": {},
     "output_type": "execute_result"
    }
   ],
   "source": [
    "data['Title'].max()"
   ]
  },
  {
   "cell_type": "markdown",
   "id": "315f6656",
   "metadata": {},
   "source": [
    "19) Concatenate Title and directors with a space in between.\n"
   ]
  },
  {
   "cell_type": "code",
   "execution_count": 54,
   "id": "7d0a3068",
   "metadata": {},
   "outputs": [
    {
     "data": {
      "text/html": [
       "<div>\n",
       "<style scoped>\n",
       "    .dataframe tbody tr th:only-of-type {\n",
       "        vertical-align: middle;\n",
       "    }\n",
       "\n",
       "    .dataframe tbody tr th {\n",
       "        vertical-align: top;\n",
       "    }\n",
       "\n",
       "    .dataframe thead th {\n",
       "        text-align: right;\n",
       "    }\n",
       "</style>\n",
       "<table border=\"1\" class=\"dataframe\">\n",
       "  <thead>\n",
       "    <tr style=\"text-align: right;\">\n",
       "      <th></th>\n",
       "      <th>FF</th>\n",
       "      <th>Title</th>\n",
       "      <th>DIR</th>\n",
       "    </tr>\n",
       "  </thead>\n",
       "  <tbody>\n",
       "    <tr>\n",
       "      <th>0</th>\n",
       "      <td>2005</td>\n",
       "      <td>1990: Bronx Warriors</td>\n",
       "      <td>ENZO CASTELLARI</td>\n",
       "    </tr>\n",
       "    <tr>\n",
       "      <th>1</th>\n",
       "      <td>2005</td>\n",
       "      <td>Creep</td>\n",
       "      <td>CHRISTOPHER SMITH</td>\n",
       "    </tr>\n",
       "    <tr>\n",
       "      <th>2</th>\n",
       "      <td>2005</td>\n",
       "      <td>Feast</td>\n",
       "      <td>JOHN GULAGER</td>\n",
       "    </tr>\n",
       "    <tr>\n",
       "      <th>3</th>\n",
       "      <td>2005</td>\n",
       "      <td>G.O.R.A.</td>\n",
       "      <td>ÌÐMER FARUK SORAK</td>\n",
       "    </tr>\n",
       "    <tr>\n",
       "      <th>4</th>\n",
       "      <td>2005</td>\n",
       "      <td>Hakugei: Legend of the Moby Dick</td>\n",
       "      <td>OSAMU DEZAKI</td>\n",
       "    </tr>\n",
       "  </tbody>\n",
       "</table>\n",
       "</div>"
      ],
      "text/plain": [
       "     FF                             Title                DIR\n",
       "0  2005              1990: Bronx Warriors    ENZO CASTELLARI\n",
       "1  2005                             Creep  CHRISTOPHER SMITH\n",
       "2  2005                             Feast       JOHN GULAGER\n",
       "3  2005                          G.O.R.A.  ÌÐMER FARUK SORAK\n",
       "4  2005  Hakugei: Legend of the Moby Dick       OSAMU DEZAKI"
      ]
     },
     "execution_count": 54,
     "metadata": {},
     "output_type": "execute_result"
    }
   ],
   "source": [
    "data.head()"
   ]
  },
  {
   "cell_type": "code",
   "execution_count": 56,
   "id": "c239d18c",
   "metadata": {},
   "outputs": [
    {
     "data": {
      "text/plain": [
       "0                   1990: Bronx Warriors ENZO CASTELLARI\n",
       "1                                Creep CHRISTOPHER SMITH\n",
       "2                                     Feast JOHN GULAGER\n",
       "3                             G.O.R.A. ÌÐMER FARUK SORAK\n",
       "4          Hakugei: Legend of the Moby Dick OSAMU DEZAKI\n",
       "                             ...                        \n",
       "904                     See You Up There ALBERT DUPONTEL\n",
       "905    Tabula Rasa JONAS GOVAERTS & KAAT BEELS / MALI...\n",
       "906                                 Wizard KAGISO LEDIGA\n",
       "907                Death of Stalin, The ARMANDO IANNUCCI\n",
       "908              Take It Out in Trade EDWARD D. WOOD JR.\n",
       "Length: 909, dtype: object"
      ]
     },
     "execution_count": 56,
     "metadata": {},
     "output_type": "execute_result"
    }
   ],
   "source": [
    "data['Title']+' '+data['DIR']"
   ]
  },
  {
   "cell_type": "markdown",
   "id": "6b603983",
   "metadata": {},
   "source": [
    "20) Find the Hostel movie from the Title list.\n"
   ]
  },
  {
   "cell_type": "code",
   "execution_count": 57,
   "id": "ff86fc4f",
   "metadata": {},
   "outputs": [
    {
     "data": {
      "text/html": [
       "<div>\n",
       "<style scoped>\n",
       "    .dataframe tbody tr th:only-of-type {\n",
       "        vertical-align: middle;\n",
       "    }\n",
       "\n",
       "    .dataframe tbody tr th {\n",
       "        vertical-align: top;\n",
       "    }\n",
       "\n",
       "    .dataframe thead th {\n",
       "        text-align: right;\n",
       "    }\n",
       "</style>\n",
       "<table border=\"1\" class=\"dataframe\">\n",
       "  <thead>\n",
       "    <tr style=\"text-align: right;\">\n",
       "      <th></th>\n",
       "      <th>FF</th>\n",
       "      <th>Title</th>\n",
       "      <th>DIR</th>\n",
       "    </tr>\n",
       "  </thead>\n",
       "  <tbody>\n",
       "    <tr>\n",
       "      <th>0</th>\n",
       "      <td>2005</td>\n",
       "      <td>1990: Bronx Warriors</td>\n",
       "      <td>ENZO CASTELLARI</td>\n",
       "    </tr>\n",
       "    <tr>\n",
       "      <th>1</th>\n",
       "      <td>2005</td>\n",
       "      <td>Creep</td>\n",
       "      <td>CHRISTOPHER SMITH</td>\n",
       "    </tr>\n",
       "    <tr>\n",
       "      <th>2</th>\n",
       "      <td>2005</td>\n",
       "      <td>Feast</td>\n",
       "      <td>JOHN GULAGER</td>\n",
       "    </tr>\n",
       "    <tr>\n",
       "      <th>3</th>\n",
       "      <td>2005</td>\n",
       "      <td>G.O.R.A.</td>\n",
       "      <td>ÌÐMER FARUK SORAK</td>\n",
       "    </tr>\n",
       "    <tr>\n",
       "      <th>4</th>\n",
       "      <td>2005</td>\n",
       "      <td>Hakugei: Legend of the Moby Dick</td>\n",
       "      <td>OSAMU DEZAKI</td>\n",
       "    </tr>\n",
       "  </tbody>\n",
       "</table>\n",
       "</div>"
      ],
      "text/plain": [
       "     FF                             Title                DIR\n",
       "0  2005              1990: Bronx Warriors    ENZO CASTELLARI\n",
       "1  2005                             Creep  CHRISTOPHER SMITH\n",
       "2  2005                             Feast       JOHN GULAGER\n",
       "3  2005                          G.O.R.A.  ÌÐMER FARUK SORAK\n",
       "4  2005  Hakugei: Legend of the Moby Dick       OSAMU DEZAKI"
      ]
     },
     "execution_count": 57,
     "metadata": {},
     "output_type": "execute_result"
    }
   ],
   "source": [
    "data.head()"
   ]
  },
  {
   "cell_type": "code",
   "execution_count": 59,
   "id": "a465a161",
   "metadata": {},
   "outputs": [
    {
     "data": {
      "text/html": [
       "<div>\n",
       "<style scoped>\n",
       "    .dataframe tbody tr th:only-of-type {\n",
       "        vertical-align: middle;\n",
       "    }\n",
       "\n",
       "    .dataframe tbody tr th {\n",
       "        vertical-align: top;\n",
       "    }\n",
       "\n",
       "    .dataframe thead th {\n",
       "        text-align: right;\n",
       "    }\n",
       "</style>\n",
       "<table border=\"1\" class=\"dataframe\">\n",
       "  <thead>\n",
       "    <tr style=\"text-align: right;\">\n",
       "      <th></th>\n",
       "      <th>FF</th>\n",
       "      <th>Title</th>\n",
       "      <th>DIR</th>\n",
       "    </tr>\n",
       "  </thead>\n",
       "  <tbody>\n",
       "    <tr>\n",
       "      <th>5</th>\n",
       "      <td>2005</td>\n",
       "      <td>Hostel</td>\n",
       "      <td>ELI ROTH</td>\n",
       "    </tr>\n",
       "  </tbody>\n",
       "</table>\n",
       "</div>"
      ],
      "text/plain": [
       "     FF   Title       DIR\n",
       "5  2005  Hostel  ELI ROTH"
      ]
     },
     "execution_count": 59,
     "metadata": {},
     "output_type": "execute_result"
    }
   ],
   "source": [
    "data[data['Title']=='Hostel']"
   ]
  },
  {
   "cell_type": "markdown",
   "id": "c29ca847",
   "metadata": {},
   "source": [
    "21) Find the Ryan Schifrin from the Director's list.\n"
   ]
  },
  {
   "cell_type": "code",
   "execution_count": 61,
   "id": "3dab6b33",
   "metadata": {},
   "outputs": [
    {
     "data": {
      "text/html": [
       "<div>\n",
       "<style scoped>\n",
       "    .dataframe tbody tr th:only-of-type {\n",
       "        vertical-align: middle;\n",
       "    }\n",
       "\n",
       "    .dataframe tbody tr th {\n",
       "        vertical-align: top;\n",
       "    }\n",
       "\n",
       "    .dataframe thead th {\n",
       "        text-align: right;\n",
       "    }\n",
       "</style>\n",
       "<table border=\"1\" class=\"dataframe\">\n",
       "  <thead>\n",
       "    <tr style=\"text-align: right;\">\n",
       "      <th></th>\n",
       "      <th>FF</th>\n",
       "      <th>Title</th>\n",
       "      <th>DIR</th>\n",
       "    </tr>\n",
       "  </thead>\n",
       "  <tbody>\n",
       "  </tbody>\n",
       "</table>\n",
       "</div>"
      ],
      "text/plain": [
       "Empty DataFrame\n",
       "Columns: [FF, Title, DIR]\n",
       "Index: []"
      ]
     },
     "execution_count": 61,
     "metadata": {},
     "output_type": "execute_result"
    }
   ],
   "source": [
    "data[data['DIR']=='Ryan Schifrin']"
   ]
  },
  {
   "cell_type": "code",
   "execution_count": 63,
   "id": "8f3eb92e",
   "metadata": {},
   "outputs": [
    {
     "data": {
      "text/plain": [
       "0     -1\n",
       "1     -1\n",
       "2     -1\n",
       "3     -1\n",
       "4     -1\n",
       "      ..\n",
       "904   -1\n",
       "905   -1\n",
       "906   -1\n",
       "907   -1\n",
       "908   -1\n",
       "Name: DIR, Length: 909, dtype: int64"
      ]
     },
     "execution_count": 63,
     "metadata": {},
     "output_type": "execute_result"
    }
   ],
   "source": [
    "data['DIR'].str.find('Ryan Schifrin')"
   ]
  },
  {
   "cell_type": "markdown",
   "id": "340ddc26",
   "metadata": {},
   "source": [
    "22) Replace the space in Title name with underscore.\n"
   ]
  },
  {
   "cell_type": "code",
   "execution_count": 65,
   "id": "1c65dded",
   "metadata": {},
   "outputs": [
    {
     "data": {
      "text/plain": [
       "0                  1990:_Bronx_Warriors\n",
       "1                                 Creep\n",
       "2                                 Feast\n",
       "3                              G.O.R.A.\n",
       "4      Hakugei:_Legend_of_the_Moby_Dick\n",
       "                     ...               \n",
       "904                    See_You_Up_There\n",
       "905                         Tabula_Rasa\n",
       "906                              Wizard\n",
       "907                Death_of_Stalin,_The\n",
       "908                Take_It_Out_in_Trade\n",
       "Name: Title, Length: 909, dtype: object"
      ]
     },
     "execution_count": 65,
     "metadata": {},
     "output_type": "execute_result"
    }
   ],
   "source": [
    "data['Title'].str.replace(' ','_')"
   ]
  },
  {
   "cell_type": "markdown",
   "id": "2c82a627",
   "metadata": {},
   "source": [
    "23) Replace the space in Dir name with underscore."
   ]
  },
  {
   "cell_type": "code",
   "execution_count": 67,
   "id": "043acd27",
   "metadata": {},
   "outputs": [
    {
     "data": {
      "text/plain": [
       "0                                      ENZO_CASTELLARI\n",
       "1                                    CHRISTOPHER_SMITH\n",
       "2                                         JOHN_GULAGER\n",
       "3                                    ÌÐMER_FARUK_SORAK\n",
       "4                                         OSAMU_DEZAKI\n",
       "                            ...                       \n",
       "904                                    ALBERT_DUPONTEL\n",
       "905    JONAS_GOVAERTS_&_KAAT_BEELS_/_MALIN-SARAH_GOZIN\n",
       "906                                      KAGISO_LEDIGA\n",
       "907                                   ARMANDO_IANNUCCI\n",
       "908                                 EDWARD_D._WOOD_JR.\n",
       "Name: DIR, Length: 909, dtype: object"
      ]
     },
     "execution_count": 67,
     "metadata": {},
     "output_type": "execute_result"
    }
   ],
   "source": [
    "data['DIR'].str.replace(' ','_')"
   ]
  },
  {
   "cell_type": "code",
   "execution_count": null,
   "id": "de9cd80f",
   "metadata": {},
   "outputs": [],
   "source": []
  },
  {
   "cell_type": "code",
   "execution_count": null,
   "id": "d71f30a6",
   "metadata": {},
   "outputs": [],
   "source": []
  }
 ],
 "metadata": {
  "kernelspec": {
   "display_name": "Python 3 (ipykernel)",
   "language": "python",
   "name": "python3"
  },
  "language_info": {
   "codemirror_mode": {
    "name": "ipython",
    "version": 3
   },
   "file_extension": ".py",
   "mimetype": "text/x-python",
   "name": "python",
   "nbconvert_exporter": "python",
   "pygments_lexer": "ipython3",
   "version": "3.9.7"
  }
 },
 "nbformat": 4,
 "nbformat_minor": 5
}
